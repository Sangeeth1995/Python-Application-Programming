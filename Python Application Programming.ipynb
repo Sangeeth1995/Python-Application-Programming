{
 "cells": [
  {
   "cell_type": "code",
   "execution_count": 9,
   "metadata": {},
   "outputs": [
    {
     "name": "stdout",
     "output_type": "stream",
     "text": [
      "welcome world\n"
     ]
    }
   ],
   "source": [
    "fp = open('foo.txt','r')\n",
    "content = fp.read()\n",
    "print(content)\n",
    "fp.close()\n",
    "\n",
    "\n"
   ]
  },
  {
   "cell_type": "code",
   "execution_count": 8,
   "metadata": {},
   "outputs": [
    {
     "name": "stdout",
     "output_type": "stream",
     "text": [
      "wel\n",
      "come world\n"
     ]
    }
   ],
   "source": [
    "fp = open('foo.txt','w')\n",
    "fp.write('welcome world')\n",
    "fp.close()\n",
    "fp = open('foo.txt','r')\n",
    "content1 = fp.read(3)\n",
    "content2 = fp.read()\n",
    "print(content1)\n",
    "print(content2)\n",
    "\n",
    "\n"
   ]
  },
  {
   "cell_type": "code",
   "execution_count": 2,
   "metadata": {},
   "outputs": [
    {
     "name": "stdout",
     "output_type": "stream",
     "text": [
      "Yes\n"
     ]
    },
    {
     "data": {
      "text/plain": [
       "['', 'bcd', 'fgh', 'j']"
      ]
     },
     "execution_count": 2,
     "metadata": {},
     "output_type": "execute_result"
    }
   ],
   "source": [
    "import re\n",
    "pattern='for'\n",
    "text='information'\n",
    "if re.search(pattern, text):\n",
    "    print('Yes')\n",
    "\n",
    "    \n",
    "re.split(r'[aeiou]', 'abcdefghij')"
   ]
  },
  {
   "cell_type": "code",
   "execution_count": 1,
   "metadata": {},
   "outputs": [
    {
     "name": "stdout",
     "output_type": "stream",
     "text": [
      "['and preferably only one', 'right']\n"
     ]
    }
   ],
   "source": [
    "import io\n",
    "import re\n",
    "\n",
    "zenPython = ''' \n",
    "The Zen of Python, by Tim Peters \n",
    "\n",
    "Beautiful is better than ugly. \n",
    "Explicit is better than implicit. \n",
    "Simple is better than complex. \n",
    "Complex is better than complicated. \n",
    "Flat is better than nested.\n",
    "Sparse is better than dense. \n",
    "Readability counts. \n",
    "Special cases aren't special enough to break the rules. \n",
    "Although practicality beats purity. \n",
    "Errors should never pass silently. \n",
    "Unless explicitly silenced. \n",
    "In the face of ambiguity, refuse the temptation to guess. \n",
    "There should be one-- and preferably only one --obvious way to do it. \n",
    "Although that way may not be obvious at first unless you're Dutch. \n",
    "Now is better than never. \n",
    "Although never is often better than *right* now. \n",
    "If the implementation is hard to explain, it's a bad idea. \n",
    "If the implementation is easy to explain, it may be a good idea.\n",
    "'''\n",
    "\n",
    "fp = io.StringIO(zenPython)\n",
    "\n",
    "zenlines =  fp.readlines()\n",
    "zen = []\n",
    "for i in range(5):\n",
    "    zen.append(zenlines[i])\n",
    "\n",
    "\n",
    "\n",
    "\n",
    "zenlines = [line.strip() for line in zenlines]\n",
    "\n",
    "\n",
    "s = 'Although never is often better than *right* now.'\n",
    "portions= []\n",
    "for i in zenlines:\n",
    "    result1 = re.search('\\*(.*)\\*', i)\n",
    "    result2 = re.search('-- (.*)\\ --', i)\n",
    "\n",
    "    \n",
    "    if result1:\n",
    "        portions.append(result1.group(1))\n",
    "    if result2:\n",
    "        portions.append(result2.group(1))\n",
    "        \n",
    "\n",
    "print(portions)\n"
   ]
  },
  {
   "cell_type": "code",
   "execution_count": 9,
   "metadata": {},
   "outputs": [
    {
     "name": "stdout",
     "output_type": "stream",
     "text": [
      "['100 NORTH MAIN RD.', '100 BROAD RD. APT.', 'SAROJINI DEVI RD.', 'BROAD AVENUE RD.']\n"
     ]
    }
   ],
   "source": [
    "# Complete the function below.\n",
    "def subst(pattern, replace_str, string):\n",
    "    return 1\n",
    "\n",
    "addr = ['100 NORTH MAIN ROAD',\n",
    "            '100 BROAD ROAD APT.',\n",
    "            'SAROJINI DEVI ROAD',\n",
    "            'BROAD AVENUE ROAD']\n",
    "res = [sub.replace('ROAD', 'RD.') for sub in addr] \n",
    "res = [sub.replace('BRD.', 'BROAD') for sub in res] \n",
    "\n",
    "\n",
    "print(res)"
   ]
  },
  {
   "cell_type": "code",
   "execution_count": null,
   "metadata": {},
   "outputs": [],
   "source": [
    "\n"
   ]
  },
  {
   "cell_type": "code",
   "execution_count": null,
   "metadata": {},
   "outputs": [],
   "source": []
  }
 ],
 "metadata": {
  "kernelspec": {
   "display_name": "Python 3",
   "language": "python",
   "name": "python3"
  },
  "language_info": {
   "codemirror_mode": {
    "name": "ipython",
    "version": 3
   },
   "file_extension": ".py",
   "mimetype": "text/x-python",
   "name": "python",
   "nbconvert_exporter": "python",
   "pygments_lexer": "ipython3",
   "version": "3.7.4"
  }
 },
 "nbformat": 4,
 "nbformat_minor": 2
}
