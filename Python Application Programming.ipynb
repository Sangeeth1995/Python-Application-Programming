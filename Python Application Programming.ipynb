{
 "cells": [
  {
   "cell_type": "code",
   "execution_count": 9,
   "metadata": {},
   "outputs": [
    {
     "name": "stdout",
     "output_type": "stream",
     "text": [
      "welcome world\n"
     ]
    }
   ],
   "source": [
    "fp = open('foo.txt','r')\n",
    "content = fp.read()\n",
    "print(content)\n",
    "fp.close()\n",
    "\n",
    "\n"
   ]
  },
  {
   "cell_type": "code",
   "execution_count": 8,
   "metadata": {},
   "outputs": [
    {
     "name": "stdout",
     "output_type": "stream",
     "text": [
      "wel\n",
      "come world\n"
     ]
    }
   ],
   "source": [
    "fp = open('foo.txt','w')\n",
    "fp.write('welcome world')\n",
    "fp.close()\n",
    "fp = open('foo.txt','r')\n",
    "content1 = fp.read(3)\n",
    "content2 = fp.read()\n",
    "print(content1)\n",
    "print(content2)\n",
    "\n",
    "\n"
   ]
  },
  {
   "cell_type": "code",
   "execution_count": 2,
   "metadata": {},
   "outputs": [
    {
     "name": "stdout",
     "output_type": "stream",
     "text": [
      "Yes\n"
     ]
    },
    {
     "data": {
      "text/plain": [
       "['', 'bcd', 'fgh', 'j']"
      ]
     },
     "execution_count": 2,
     "metadata": {},
     "output_type": "execute_result"
    }
   ],
   "source": [
    "import re\n",
    "pattern='for'\n",
    "text='information'\n",
    "if re.search(pattern, text):\n",
    "    print('Yes')\n",
    "\n",
    "    \n",
    "re.split(r'[aeiou]', 'abcdefghij')"
   ]
  },
  {
   "cell_type": "code",
   "execution_count": 1,
   "metadata": {},
   "outputs": [
    {
     "name": "stdout",
     "output_type": "stream",
     "text": [
      "['and preferably only one', 'right']\n"
     ]
    }
   ],
   "source": [
    "import io\n",
    "import re\n",
    "\n",
    "zenPython = ''' \n",
    "The Zen of Python, by Tim Peters \n",
    "\n",
    "Beautiful is better than ugly. \n",
    "Explicit is better than implicit. \n",
    "Simple is better than complex. \n",
    "Complex is better than complicated. \n",
    "Flat is better than nested.\n",
    "Sparse is better than dense. \n",
    "Readability counts. \n",
    "Special cases aren't special enough to break the rules. \n",
    "Although practicality beats purity. \n",
    "Errors should never pass silently. \n",
    "Unless explicitly silenced. \n",
    "In the face of ambiguity, refuse the temptation to guess. \n",
    "There should be one-- and preferably only one --obvious way to do it. \n",
    "Although that way may not be obvious at first unless you're Dutch. \n",
    "Now is better than never. \n",
    "Although never is often better than *right* now. \n",
    "If the implementation is hard to explain, it's a bad idea. \n",
    "If the implementation is easy to explain, it may be a good idea.\n",
    "'''\n",
    "\n",
    "fp = io.StringIO(zenPython)\n",
    "\n",
    "zenlines =  fp.readlines()\n",
    "zen = []\n",
    "for i in range(5):\n",
    "    zen.append(zenlines[i])\n",
    "\n",
    "\n",
    "\n",
    "\n",
    "zenlines = [line.strip() for line in zenlines]\n",
    "\n",
    "\n",
    "s = 'Although never is often better than *right* now.'\n",
    "portions= []\n",
    "for i in zenlines:\n",
    "    result1 = re.search('\\*(.*)\\*', i)\n",
    "    result2 = re.search('-- (.*)\\ --', i)\n",
    "\n",
    "    \n",
    "    if result1:\n",
    "        portions.append(result1.group(1))\n",
    "    if result2:\n",
    "        portions.append(result2.group(1))\n",
    "        \n",
    "\n",
    "print(portions)\n"
   ]
  },
  {
   "cell_type": "code",
   "execution_count": 9,
   "metadata": {},
   "outputs": [
    {
     "name": "stdout",
     "output_type": "stream",
     "text": [
      "['100 NORTH MAIN RD.', '100 BROAD RD. APT.', 'SAROJINI DEVI RD.', 'BROAD AVENUE RD.']\n"
     ]
    }
   ],
   "source": [
    "# Complete the function below.\n",
    "def subst(pattern, replace_str, string):\n",
    "    return 1\n",
    "\n",
    "addr = ['100 NORTH MAIN ROAD',\n",
    "            '100 BROAD ROAD APT.',\n",
    "            'SAROJINI DEVI ROAD',\n",
    "            'BROAD AVENUE ROAD']\n",
    "res = [sub.replace('ROAD', 'RD.') for sub in addr] \n",
    "res = [sub.replace('BRD.', 'BROAD') for sub in res] \n",
    "\n",
    "\n",
    "print(res)"
   ]
  },
  {
   "cell_type": "code",
   "execution_count": 12,
   "metadata": {},
   "outputs": [],
   "source": [
    "import sqlite3\n",
    "# establishing  a database connection\n",
    "con = sqlite3.connect('TEST.db')\n",
    "# preparing a cursor object\n",
    "cursor = con.cursor()\n",
    "# preparing sql statements\n",
    "sql1 = 'DROP TABLE IF EXISTS EMPLOYEE'\n",
    "sql2 = '''\n",
    "\n",
    "       CREATE TABLE EMPLOYEE (\n",
    "       EMPID INT(6) NOT NULL,\n",
    "       NAME CHAR(20) NOT NULL,\n",
    "       AGE INT,\n",
    "       SEX CHAR(1),\n",
    "       INCOME FLOAT\n",
    "       )\n",
    "      '''\n",
    "\n",
    "# executing sql statements\n",
    "cursor.execute(sql1)\n",
    "cursor.execute(sql2)\n",
    "\n",
    "# closing the connection\n",
    "con.close()\n",
    "\n",
    "\n",
    "#Single rows are inserted using execute and multiple rows using executeMany method of created cursor object.\n"
   ]
  },
  {
   "cell_type": "code",
   "execution_count": 14,
   "metadata": {},
   "outputs": [],
   "source": [
    "import sqlite3\n",
    "# establishing the connection\n",
    "con = sqlite3.connect('TEST.db')\n",
    "# preparing a cursor object\n",
    "cursor = con.cursor()\n",
    "# preparing sql statement\n",
    "rec = (456789, 'Frodo', 45, 'M', 100000.00)\n",
    "sql = '''\n",
    "      INSERT INTO EMPLOYEE VALUES ( ?, ?, ?, ?, ?)\n",
    "      '''\n",
    "# executing sql statement using try ... except blocks\n",
    "\n",
    "try:\n",
    "\n",
    "    cursor.execute(sql, rec)\n",
    "\n",
    "    con.commit()\n",
    "\n",
    "except Exception as e:\n",
    "\n",
    "    print(\"Error Message :\", str(e))\n",
    "\n",
    "    con.rollback()\n",
    "\n",
    "\n",
    "\n",
    "# closing the database connection\n",
    "\n",
    "con.close()"
   ]
  },
  {
   "cell_type": "code",
   "execution_count": 15,
   "metadata": {},
   "outputs": [],
   "source": [
    "import sqlite3\n",
    "con = sqlite3.connect('TEST.db')\n",
    "cursor = con.cursor()\n",
    "\n",
    "# preparing sql statement\n",
    "\n",
    "records = [\n",
    "\n",
    "    (123456, 'John', 25, 'M', 50000.00),\n",
    "\n",
    "    (234651, 'Juli', 35, 'F', 75000.00),\n",
    "\n",
    "    (345121, 'Fred', 48, 'M', 125000.00),\n",
    "\n",
    "    (562412, 'Rosy', 28, 'F', 52000.00)\n",
    "\n",
    "    ]\n",
    "\n",
    "sql = '''\n",
    "\n",
    "       INSERT INTO EMPLOYEE VALUES ( ?, ?, ?, ?, ?)\n",
    "\n",
    "      '''\n",
    "\n",
    "# executing sql statement using try ... except blocks\n",
    "\n",
    "try:\n",
    "\n",
    "    cursor.executemany(sql, records)\n",
    "\n",
    "    con.commit()\n",
    "\n",
    "except Exception as e:\n",
    "\n",
    "    print(\"Error Message :\", str(e))\n",
    "\n",
    "    con.rollback()\n",
    "\n",
    "\n",
    "\n",
    "# closing the database connection\n",
    "\n",
    "con.close()\n"
   ]
  },
  {
   "cell_type": "code",
   "execution_count": null,
   "metadata": {},
   "outputs": [],
   "source": [
    "'''\n",
    "fetchone: It retrieves one record at a time in the form of a tuple.\n",
    "\n",
    "fetchall: It retrieves all fetched records at a point in the form of tuple of tuples.\n",
    "\n",
    "'''"
   ]
  },
  {
   "cell_type": "code",
   "execution_count": 16,
   "metadata": {},
   "outputs": [
    {
     "name": "stdout",
     "output_type": "stream",
     "text": [
      "(456789, 'Frodo', 45, 'M', 100000.0)\n",
      "(123456, 'John', 25, 'M', 50000.0)\n",
      "(234651, 'Juli', 35, 'F', 75000.0)\n",
      "(345121, 'Fred', 48, 'M', 125000.0)\n",
      "(562412, 'Rosy', 28, 'F', 52000.0)\n"
     ]
    }
   ],
   "source": [
    "import sqlite3\n",
    "# establishing the connection\n",
    "con = sqlite3.connect('TEST.db')\n",
    "# preparing a cursor object\n",
    "cursor = con.cursor()\n",
    "# preparing sql statement\n",
    "sql = '''\n",
    "       SELECT * FROM EMPLOYEE\n",
    "      '''\n",
    "# executing the sql statement using `try ... except`\n",
    "try:\n",
    "    cursor.execute(sql)\n",
    "except:\n",
    "    print('Unable to fetch data.')\n",
    "# fetching the records\n",
    "\n",
    "records = cursor.fetchall()\n",
    "\n",
    "\n",
    "\n",
    "# Displaying the records\n",
    "\n",
    "for record in records:\n",
    "\n",
    "    print(record)\n",
    "\n",
    "\n",
    "\n",
    "# closing the connection\n",
    "\n",
    "con.close()"
   ]
  },
  {
   "cell_type": "code",
   "execution_count": null,
   "metadata": {},
   "outputs": [],
   "source": [
    "'''\n",
    "An object-relational mapper (ORM) is a library that automates the transfer of data stored in relational database tables into objects that are adopted in application code.\n",
    "\n",
    "ORMs offer a high-level abstraction upon a relational database, which permits a developer to write Python code rather than SQL to create, read, update and delete data and schemas in their database.\n",
    "\n",
    "Consider the sample SQL statement used to retrieve employees whose income is 10,000.00.\n",
    "\n",
    "SELECT * FROM EMPLOYEE WHERE INCOME=10000.00\n",
    "\n",
    "The equivalent Django ORM query is\n",
    "\n",
    "emps = Employee.objects.filter(income=10000.00)\n",
    "\n",
    "The above code is written in Python and easy to read.\n",
    "\n",
    "Such an ability to write Python code instead of SQL speeds up web application development.\n",
    "\n",
    "\n",
    "'''"
   ]
  },
  {
   "cell_type": "code",
   "execution_count": null,
   "metadata": {},
   "outputs": [],
   "source": [
    "#DB_Test\n",
    "\n",
    "#Test_1\n",
    "conn = sqlite3.connect('SAMPLE.db')\n",
    "    #create connection cursor\n",
    "    cursor = conn.cursor()\n",
    "\n",
    "    #create table ITEMS using the cursor\n",
    "    sql1 = '''\n",
    "\n",
    "       CREATE TABLE ITEMS (\n",
    "       item_id INT(6) NOT NULL,\n",
    "       item_name CHAR(20) NOT NULL,\n",
    "       item_description CHAR(50),\n",
    "       item_category CHAR(50),\n",
    "       quantity_in_stock INT\n",
    "       )\n",
    "      '''\n",
    "\n",
    "    #commit connection \n",
    "    conn.commit()\n",
    "\n",
    "    #close connection\n",
    "    conn.close()"
   ]
  },
  {
   "cell_type": "code",
   "execution_count": null,
   "metadata": {},
   "outputs": [],
   "source": [
    "#DB_Test\n",
    "\n",
    "#Test_2\n",
    "\n",
    "conn = sqlite3.connect('SAMPLE.db')\n",
    "    cursor = conn.cursor()\n",
    "\n",
    "    cursor.execute(\"drop table if exists ITEMS\")\n",
    "    \n",
    "    sql_statement = '''CREATE TABLE ITEMS\n",
    "    (item_id integer not null, item_name varchar(300), \n",
    "    item_description text, item_category text, \n",
    "    quantity_in_stock integer)'''\n",
    "    \n",
    "    cursor.execute(sql_statement)\n",
    "\n",
    "    items = [(101, 'Nik D300', 'Nik D300', 'DSLR Camera', 3),\n",
    "             (102, 'Can 1300', 'Can 1300', 'DSLR Camera', 5),\n",
    "             (103, 'gPhone 13S', 'gPhone 13S', 'Mobile', 10),\n",
    "             (104, 'Mic canvas', 'Mic canvas', 'Tab', 5),\n",
    "             (105, 'SnDisk 10T', 'SnDisk 10T', 'Hard Drive', 1)\n",
    "             ]\n",
    "  \n",
    "    #Add code to insert records to ITEM table\n",
    "    sql = '''\n",
    "\n",
    "       INSERT INTO ITEMS VALUES ( ?, ?, ?, ?, ?)\n",
    "\n",
    "      '''\n",
    "    try:\n",
    "        cursor.executemany(sql, items)\n",
    "        conn.commit()\n",
    "    except Exception:\n",
    "        print(\"Error Message :\", Exception)\n",
    "        conn.rollback()\n",
    "    try:    \n",
    "        cursor.execute(\"select * from ITEMS\")\n",
    "    except:\n",
    "        return 'Unable to perform the transaction.'\n",
    "    rowout=[]     \n",
    "    for row in cursor.fetchall():\n",
    "        rowout.append(row)\n",
    "    return rowout    \n",
    "    conn.close()"
   ]
  },
  {
   "cell_type": "code",
   "execution_count": 6,
   "metadata": {},
   "outputs": [],
   "source": [
    "#DB_Test\n",
    "\n",
    "#Test_3\n",
    "\n",
    "    conn = sqlite3.connect('SAMPLE.db')\n",
    "    cursor = conn.cursor()\n",
    "\n",
    "    cursor.execute(\"drop table if exists ITEMS\")\n",
    "    \n",
    "    sql_statement = '''CREATE TABLE ITEMS\n",
    "    (item_id integer not null, item_name varchar(300), \n",
    "    item_description text, item_category text, \n",
    "    quantity_in_stock integer)'''\n",
    "    \n",
    "    cursor.execute(sql_statement)\n",
    "\n",
    "    items = [(101, 'Nik D300', 'Nik D300', 'DSLR Camera', 3),\n",
    "             (102, 'Can 1300', 'Can 1300', 'DSLR Camera', 5),\n",
    "             (103, 'gPhone 13S', 'gPhone 13S', 'Mobile', 10),\n",
    "             (104, 'Mic canvas', 'Mic canvas', 'Tab', 5),\n",
    "             (105, 'SnDisk 10T', 'SnDisk 10T', 'Hard Drive', 1)\n",
    "             ]\n",
    "  \n",
    "    try:\n",
    "        cursor.executemany(\"Insert into ITEMS values (?,?,?,?,?)\", items)\n",
    "        conn.commit()\n",
    "        #Add code to select items here\n",
    "        cursor.execute(\"select * from ITEMS where item_id < 103\")\n",
    "    except:\n",
    "        return 'Unable to perform the transaction.'\n",
    "    rowout=[]     \n",
    "    for row in cursor.fetchall():\n",
    "        rowout.append(row)\n",
    "    return rowout    \n",
    "    conn.close()"
   ]
  },
  {
   "cell_type": "code",
   "execution_count": 8,
   "metadata": {},
   "outputs": [
    {
     "name": "stdout",
     "output_type": "stream",
     "text": [
      "[(101, 2), (102, 5), (103, 4), (104, 5), (105, 0)]\n"
     ]
    }
   ],
   "source": [
    "#DB_Test\n",
    "\n",
    "#Test_4\n",
    "\n",
    "\n",
    "import sqlite3\n",
    "\n",
    "\n",
    "conn = sqlite3.connect('SAMPLE.db')\n",
    "cursor = conn.cursor()\n",
    "cursor.execute(\"drop table if exists ITEMS\")\n",
    "    \n",
    "sql_statement = '''CREATE TABLE ITEMS\n",
    "    (item_id integer not null, item_name varchar(300), \n",
    "    item_description text, item_category text, \n",
    "    quantity_in_stock integer)'''\n",
    "    \n",
    "cursor.execute(sql_statement)\n",
    "    \n",
    "items = [(101, 'Nik D300', 'Nik D300', 'DSLR Camera', 3),\n",
    "             (102, 'Can 1300', 'Can 1300', 'DSLR Camera', 5),\n",
    "             (103, 'gPhone 13S', 'gPhone 13S', 'Mobile', 10),\n",
    "             (104, 'Mic canvas', 'Mic canvas', 'Tab', 5),\n",
    "             (105, 'SnDisk 10T', 'SnDisk 10T', 'Hard Drive', 1)\n",
    "             ]\n",
    "try:\n",
    "    cursor.executemany(\"Insert into ITEMS values (?,?,?,?,?)\", items)\n",
    "\n",
    "        #Add code for updating quantity_in_stock\n",
    "    cursor.execute(\"update ITEMS set quantity_in_stock = 2 where  item_id = 101\")\n",
    "    cursor.execute(\"update ITEMS set quantity_in_stock = 4 where  item_id = 103\")\n",
    "    cursor.execute(\"update ITEMS set quantity_in_stock = 0 where  item_id = 105\")\n",
    "#     cursor.execute(\"UPDATE ITEMS SET quantity_in_stock = 2,4,0 where item_id = 101,103,105\")\n",
    "    cursor.execute(\"select item_id,quantity_in_stock from ITEMS\")\n",
    "except:\n",
    "        'Unable to perform the transaction.'\n",
    "rowout=[]    \n",
    "for row in cursor.fetchall():\n",
    "    rowout.append(row)\n",
    "print(rowout)    \n",
    "conn.close()"
   ]
  },
  {
   "cell_type": "code",
   "execution_count": 12,
   "metadata": {},
   "outputs": [
    {
     "name": "stdout",
     "output_type": "stream",
     "text": [
      "[(101,), (102,), (103,), (104,)]\n"
     ]
    }
   ],
   "source": [
    "#DB_Test\n",
    "\n",
    "#Test_5\n",
    "import sqlite3\n",
    "\n",
    "conn = sqlite3.connect('SAMPLE.db')\n",
    "cursor = conn.cursor()\n",
    "\n",
    "cursor.execute(\"drop table if exists ITEMS\")\n",
    "    \n",
    "sql_statement = '''CREATE TABLE ITEMS\n",
    "    (item_id integer not null, item_name varchar(300), \n",
    "    item_description text, item_category text, \n",
    "    quantity_in_stock integer)'''\n",
    "    \n",
    "cursor.execute(sql_statement)\n",
    "\n",
    "items = [(101, 'Nik D300', 'Nik D300', 'DSLR Camera', 3),\n",
    "             (102, 'Can 1300', 'Can 1300', 'DSLR Camera', 5),\n",
    "             (103, 'gPhone 13S', 'gPhone 13S', 'Mobile', 10),\n",
    "             (104, 'Mic canvas', 'Mic canvas', 'Tab', 5),\n",
    "             (105, 'SnDisk 10T', 'SnDisk 10T', 'Hard Drive', 1)\n",
    "             ]\n",
    "  \n",
    "try:\n",
    "    cursor.executemany(\"Insert into ITEMS values (?,?,?,?,?)\", items)\n",
    "    cursor.executemany(\"update ITEMS set quantity_in_stock = ? where item_id = ?\",\n",
    "                       [(4, 103),\n",
    "                        (2, 101),\n",
    "                        (0, 105)])\n",
    "    #Add code below to delete items\n",
    "    cursor.execute('delete from ITEMS where item_id=105')\n",
    "    cursor.execute(\"select item_id from ITEMS\")\n",
    "except:\n",
    "     'Unable to perform the transaction.'\n",
    "rowout=[]     \n",
    "for row in cursor.fetchall():\n",
    "    rowout.append(row)\n",
    "print(rowout)    \n",
    "conn.close()"
   ]
  },
  {
   "cell_type": "code",
   "execution_count": 13,
   "metadata": {},
   "outputs": [
    {
     "name": "stdout",
     "output_type": "stream",
     "text": [
      "Hello Everyone!\n",
      "<class 'function'>\n",
      "Hello Everyone!\n"
     ]
    }
   ],
   "source": [
    "#Higher Order function\n",
    "\n",
    "'''\n",
    "A Higher Order function is a function, which is capable of doing any one of the following things:\n",
    "\n",
    ">It can be functioned as a data and be assigned to a variable.\n",
    "\n",
    ">It can accept any other function as an argument.\n",
    "\n",
    ">It can return a function as its result.\n",
    "\n",
    "The ability to build Higher order functions, allows a programmer to create Closures, which in turn are used to create Decorators.\n",
    "\n",
    "'''\n",
    "\n",
    "def greet():\n",
    "    return 'Hello Everyone!'\n",
    "print(greet())\n",
    "wish = greet        # 'greet' function assigned to variable 'wish'\n",
    "print(type(wish))   \n",
    "print(wish())  "
   ]
  },
  {
   "cell_type": "code",
   "execution_count": 14,
   "metadata": {},
   "outputs": [
    {
     "name": "stdout",
     "output_type": "stream",
     "text": [
      "16\n",
      "8\n",
      "48\n"
     ]
    }
   ],
   "source": [
    "def add(x, y):\n",
    "    return x + y\n",
    "def sub(x, y):\n",
    "    return x - y\n",
    "def prod(x, y):\n",
    "    return x * y\n",
    "def do(func, x, y):\n",
    "    return func(x, y)\n",
    "print(do(add, 12, 4))  # 'add' as arg\n",
    "print(do(sub, 12, 4))  # 'sub' as arg\n",
    "print(do(prod, 12, 4))  # 'prod' as arg"
   ]
  },
  {
   "cell_type": "code",
   "execution_count": 15,
   "metadata": {},
   "outputs": [
    {
     "name": "stdout",
     "output_type": "stream",
     "text": [
      "Hello world!\n"
     ]
    }
   ],
   "source": [
    "\n",
    "def outer():\n",
    "\n",
    "    def inner():\n",
    "\n",
    "        s = 'Hello world!'\n",
    "\n",
    "        return s            \n",
    "\n",
    "        \n",
    "\n",
    "    return inner()    \n",
    "\n",
    "\n",
    "\n",
    "print(outer())"
   ]
  },
  {
   "cell_type": "code",
   "execution_count": 16,
   "metadata": {},
   "outputs": [
    {
     "name": "stdout",
     "output_type": "stream",
     "text": [
      "<function outer.<locals>.inner at 0x10d0bd950>\n",
      "<class 'function'>\n",
      "Hello world!\n"
     ]
    }
   ],
   "source": [
    "def outer():\n",
    "\n",
    "    def inner():\n",
    "\n",
    "        s = 'Hello world!'\n",
    "\n",
    "        return s            \n",
    "\n",
    "        \n",
    "\n",
    "    return inner   # Removed '()' to return 'inner' function itself\n",
    "\n",
    "    \n",
    "\n",
    "print(outer()) #returns 'inner' function\n",
    "\n",
    "func = outer() \n",
    "\n",
    "print(type(func))\n",
    "\n",
    "print(func()) # calling 'inner' function\n"
   ]
  },
  {
   "cell_type": "code",
   "execution_count": 17,
   "metadata": {},
   "outputs": [
    {
     "name": "stdout",
     "output_type": "stream",
     "text": [
      "20\n",
      "24\n"
     ]
    }
   ],
   "source": [
    "#Closure\n",
    "'''\n",
    "In simplest terms, a Closure is a function returned by a higher order function, whose return value depends on the data associated with the higher order function.\n",
    "'''\n",
    "def multiple_of(x):\n",
    "    def multiple(y):\n",
    "        return x*y\n",
    "    return multiple\n",
    "c1 = multiple_of(5)  # 'c1' is a closure\n",
    "c2 = multiple_of(6)  # 'c2' is a closure\n",
    "print(c1(4))\n",
    "print(c2(4))"
   ]
  },
  {
   "cell_type": "code",
   "execution_count": 18,
   "metadata": {},
   "outputs": [
    {
     "name": "stdout",
     "output_type": "stream",
     "text": [
      "50\n"
     ]
    }
   ],
   "source": [
    "def outer(x, y):\n",
    "\n",
    "    def inner1():\n",
    "        return x+y\n",
    "\n",
    "    def inner2(z):\n",
    "        return inner1() + z\n",
    "\n",
    "    return inner2\n",
    "\n",
    "\n",
    "f = outer(10, 25)\n",
    "\n",
    "print(f(15))"
   ]
  },
  {
   "cell_type": "code",
   "execution_count": 19,
   "metadata": {},
   "outputs": [
    {
     "name": "stdout",
     "output_type": "stream",
     "text": [
      "24\n"
     ]
    }
   ],
   "source": [
    "def f(x):\n",
    "    return 3*x\n",
    "\n",
    "def g(x):\n",
    "    return 4*x\n",
    "\n",
    "print(f(g(2)))"
   ]
  },
  {
   "cell_type": "code",
   "execution_count": 7,
   "metadata": {},
   "outputs": [
    {
     "name": "stdout",
     "output_type": "stream",
     "text": [
      "True\n",
      "True\n",
      "--------------------\n",
      "True\n",
      "False\n",
      "--------------------\n",
      "False\n",
      "True\n",
      "--------------------\n",
      "False\n",
      "False\n"
     ]
    }
   ],
   "source": [
    "#Higher Order function Test1:\n",
    "\n",
    "def detector(element):\n",
    "\n",
    "    def isIn(sequence):\n",
    "        for i in sequence:\n",
    "            if(i == element):\n",
    "                return True\n",
    "        else:\n",
    "            return False\n",
    "        \n",
    "\n",
    "    return isIn\n",
    "\n",
    "\n",
    "detect30 = detector(30)\n",
    "detect45 = detector(45)\n",
    "print(detect30([2,30,45,6]))\n",
    "print(detect45([2,30,45,6]))\n",
    "print('--------------------')\n",
    "print(detect30([8,30,4,6]))\n",
    "print(detect45([8,30,4,6]))\n",
    "print('--------------------')\n",
    "print(detect30([8,31,45,6]))\n",
    "print(detect45([8,31,45,6]))\n",
    "print('--------------------')\n",
    "print(detect30([8,3,4,6,9,4,5,0,1,445,300]))\n",
    "print(detect45([8,3,4,6,9,4,5,0,1,445,300]))"
   ]
  },
  {
   "cell_type": "code",
   "execution_count": null,
   "metadata": {},
   "outputs": [],
   "source": [
    "#Higher Order function Test2:\n",
    "\n",
    "def factory(n=0):\n",
    "\n",
    "    def current():\n",
    "        return n\n",
    "\n",
    "    def counter():\n",
    "        n = current()\n",
    "        n += 1\n",
    "        return n\n",
    "\n",
    "    return current, counter\n",
    "\n",
    "f_current, f_counter = factory(int(input()))"
   ]
  },
  {
   "cell_type": "code",
   "execution_count": null,
   "metadata": {},
   "outputs": [],
   "source": []
  }
 ],
 "metadata": {
  "kernelspec": {
   "display_name": "Python 3",
   "language": "python",
   "name": "python3"
  },
  "language_info": {
   "codemirror_mode": {
    "name": "ipython",
    "version": 3
   },
   "file_extension": ".py",
   "mimetype": "text/x-python",
   "name": "python",
   "nbconvert_exporter": "python",
   "pygments_lexer": "ipython3",
   "version": "3.7.4"
  }
 },
 "nbformat": 4,
 "nbformat_minor": 2
}
