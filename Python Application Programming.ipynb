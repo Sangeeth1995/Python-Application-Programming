{
 "cells": [
  {
   "cell_type": "code",
   "execution_count": 9,
   "metadata": {},
   "outputs": [
    {
     "name": "stdout",
     "output_type": "stream",
     "text": [
      "welcome world\n"
     ]
    }
   ],
   "source": [
    "fp = open('foo.txt','r')\n",
    "content = fp.read()\n",
    "print(content)\n",
    "fp.close()\n",
    "\n",
    "\n"
   ]
  },
  {
   "cell_type": "code",
   "execution_count": 8,
   "metadata": {},
   "outputs": [
    {
     "name": "stdout",
     "output_type": "stream",
     "text": [
      "wel\n",
      "come world\n"
     ]
    }
   ],
   "source": [
    "fp = open('foo.txt','w')\n",
    "fp.write('welcome world')\n",
    "fp.close()\n",
    "fp = open('foo.txt','r')\n",
    "content1 = fp.read(3)\n",
    "content2 = fp.read()\n",
    "print(content1)\n",
    "print(content2)\n",
    "\n",
    "\n"
   ]
  },
  {
   "cell_type": "code",
   "execution_count": 2,
   "metadata": {},
   "outputs": [
    {
     "name": "stdout",
     "output_type": "stream",
     "text": [
      "Yes\n"
     ]
    },
    {
     "data": {
      "text/plain": [
       "['', 'bcd', 'fgh', 'j']"
      ]
     },
     "execution_count": 2,
     "metadata": {},
     "output_type": "execute_result"
    }
   ],
   "source": [
    "import re\n",
    "pattern='for'\n",
    "text='information'\n",
    "if re.search(pattern, text):\n",
    "    print('Yes')\n",
    "\n",
    "    \n",
    "re.split(r'[aeiou]', 'abcdefghij')"
   ]
  },
  {
   "cell_type": "code",
   "execution_count": 1,
   "metadata": {},
   "outputs": [
    {
     "name": "stdout",
     "output_type": "stream",
     "text": [
      "['and preferably only one', 'right']\n"
     ]
    }
   ],
   "source": [
    "import io\n",
    "import re\n",
    "\n",
    "zenPython = ''' \n",
    "The Zen of Python, by Tim Peters \n",
    "\n",
    "Beautiful is better than ugly. \n",
    "Explicit is better than implicit. \n",
    "Simple is better than complex. \n",
    "Complex is better than complicated. \n",
    "Flat is better than nested.\n",
    "Sparse is better than dense. \n",
    "Readability counts. \n",
    "Special cases aren't special enough to break the rules. \n",
    "Although practicality beats purity. \n",
    "Errors should never pass silently. \n",
    "Unless explicitly silenced. \n",
    "In the face of ambiguity, refuse the temptation to guess. \n",
    "There should be one-- and preferably only one --obvious way to do it. \n",
    "Although that way may not be obvious at first unless you're Dutch. \n",
    "Now is better than never. \n",
    "Although never is often better than *right* now. \n",
    "If the implementation is hard to explain, it's a bad idea. \n",
    "If the implementation is easy to explain, it may be a good idea.\n",
    "'''\n",
    "\n",
    "fp = io.StringIO(zenPython)\n",
    "\n",
    "zenlines =  fp.readlines()\n",
    "zen = []\n",
    "for i in range(5):\n",
    "    zen.append(zenlines[i])\n",
    "\n",
    "\n",
    "\n",
    "\n",
    "zenlines = [line.strip() for line in zenlines]\n",
    "\n",
    "\n",
    "s = 'Although never is often better than *right* now.'\n",
    "portions= []\n",
    "for i in zenlines:\n",
    "    result1 = re.search('\\*(.*)\\*', i)\n",
    "    result2 = re.search('-- (.*)\\ --', i)\n",
    "\n",
    "    \n",
    "    if result1:\n",
    "        portions.append(result1.group(1))\n",
    "    if result2:\n",
    "        portions.append(result2.group(1))\n",
    "        \n",
    "\n",
    "print(portions)\n"
   ]
  },
  {
   "cell_type": "code",
   "execution_count": 9,
   "metadata": {},
   "outputs": [
    {
     "name": "stdout",
     "output_type": "stream",
     "text": [
      "['100 NORTH MAIN RD.', '100 BROAD RD. APT.', 'SAROJINI DEVI RD.', 'BROAD AVENUE RD.']\n"
     ]
    }
   ],
   "source": [
    "# Complete the function below.\n",
    "def subst(pattern, replace_str, string):\n",
    "    return 1\n",
    "\n",
    "addr = ['100 NORTH MAIN ROAD',\n",
    "            '100 BROAD ROAD APT.',\n",
    "            'SAROJINI DEVI ROAD',\n",
    "            'BROAD AVENUE ROAD']\n",
    "res = [sub.replace('ROAD', 'RD.') for sub in addr] \n",
    "res = [sub.replace('BRD.', 'BROAD') for sub in res] \n",
    "\n",
    "\n",
    "print(res)"
   ]
  },
  {
   "cell_type": "code",
   "execution_count": 12,
   "metadata": {},
   "outputs": [],
   "source": [
    "import sqlite3\n",
    "# establishing  a database connection\n",
    "con = sqlite3.connect('TEST.db')\n",
    "# preparing a cursor object\n",
    "cursor = con.cursor()\n",
    "# preparing sql statements\n",
    "sql1 = 'DROP TABLE IF EXISTS EMPLOYEE'\n",
    "sql2 = '''\n",
    "\n",
    "       CREATE TABLE EMPLOYEE (\n",
    "       EMPID INT(6) NOT NULL,\n",
    "       NAME CHAR(20) NOT NULL,\n",
    "       AGE INT,\n",
    "       SEX CHAR(1),\n",
    "       INCOME FLOAT\n",
    "       )\n",
    "      '''\n",
    "\n",
    "# executing sql statements\n",
    "cursor.execute(sql1)\n",
    "cursor.execute(sql2)\n",
    "\n",
    "# closing the connection\n",
    "con.close()\n",
    "\n",
    "\n",
    "#Single rows are inserted using execute and multiple rows using executeMany method of created cursor object.\n"
   ]
  },
  {
   "cell_type": "code",
   "execution_count": 14,
   "metadata": {},
   "outputs": [],
   "source": [
    "import sqlite3\n",
    "# establishing the connection\n",
    "con = sqlite3.connect('TEST.db')\n",
    "# preparing a cursor object\n",
    "cursor = con.cursor()\n",
    "# preparing sql statement\n",
    "rec = (456789, 'Frodo', 45, 'M', 100000.00)\n",
    "sql = '''\n",
    "      INSERT INTO EMPLOYEE VALUES ( ?, ?, ?, ?, ?)\n",
    "      '''\n",
    "# executing sql statement using try ... except blocks\n",
    "\n",
    "try:\n",
    "\n",
    "    cursor.execute(sql, rec)\n",
    "\n",
    "    con.commit()\n",
    "\n",
    "except Exception as e:\n",
    "\n",
    "    print(\"Error Message :\", str(e))\n",
    "\n",
    "    con.rollback()\n",
    "\n",
    "\n",
    "\n",
    "# closing the database connection\n",
    "\n",
    "con.close()"
   ]
  },
  {
   "cell_type": "code",
   "execution_count": 15,
   "metadata": {},
   "outputs": [],
   "source": [
    "import sqlite3\n",
    "con = sqlite3.connect('TEST.db')\n",
    "cursor = con.cursor()\n",
    "\n",
    "# preparing sql statement\n",
    "\n",
    "records = [\n",
    "\n",
    "    (123456, 'John', 25, 'M', 50000.00),\n",
    "\n",
    "    (234651, 'Juli', 35, 'F', 75000.00),\n",
    "\n",
    "    (345121, 'Fred', 48, 'M', 125000.00),\n",
    "\n",
    "    (562412, 'Rosy', 28, 'F', 52000.00)\n",
    "\n",
    "    ]\n",
    "\n",
    "sql = '''\n",
    "\n",
    "       INSERT INTO EMPLOYEE VALUES ( ?, ?, ?, ?, ?)\n",
    "\n",
    "      '''\n",
    "\n",
    "# executing sql statement using try ... except blocks\n",
    "\n",
    "try:\n",
    "\n",
    "    cursor.executemany(sql, records)\n",
    "\n",
    "    con.commit()\n",
    "\n",
    "except Exception as e:\n",
    "\n",
    "    print(\"Error Message :\", str(e))\n",
    "\n",
    "    con.rollback()\n",
    "\n",
    "\n",
    "\n",
    "# closing the database connection\n",
    "\n",
    "con.close()\n"
   ]
  },
  {
   "cell_type": "code",
   "execution_count": null,
   "metadata": {},
   "outputs": [],
   "source": [
    "'''\n",
    "fetchone: It retrieves one record at a time in the form of a tuple.\n",
    "\n",
    "fetchall: It retrieves all fetched records at a point in the form of tuple of tuples.\n",
    "\n",
    "'''"
   ]
  },
  {
   "cell_type": "code",
   "execution_count": 16,
   "metadata": {},
   "outputs": [
    {
     "name": "stdout",
     "output_type": "stream",
     "text": [
      "(456789, 'Frodo', 45, 'M', 100000.0)\n",
      "(123456, 'John', 25, 'M', 50000.0)\n",
      "(234651, 'Juli', 35, 'F', 75000.0)\n",
      "(345121, 'Fred', 48, 'M', 125000.0)\n",
      "(562412, 'Rosy', 28, 'F', 52000.0)\n"
     ]
    }
   ],
   "source": [
    "import sqlite3\n",
    "# establishing the connection\n",
    "con = sqlite3.connect('TEST.db')\n",
    "# preparing a cursor object\n",
    "cursor = con.cursor()\n",
    "# preparing sql statement\n",
    "sql = '''\n",
    "       SELECT * FROM EMPLOYEE\n",
    "      '''\n",
    "# executing the sql statement using `try ... except`\n",
    "try:\n",
    "    cursor.execute(sql)\n",
    "except:\n",
    "    print('Unable to fetch data.')\n",
    "# fetching the records\n",
    "\n",
    "records = cursor.fetchall()\n",
    "\n",
    "\n",
    "\n",
    "# Displaying the records\n",
    "\n",
    "for record in records:\n",
    "\n",
    "    print(record)\n",
    "\n",
    "\n",
    "\n",
    "# closing the connection\n",
    "\n",
    "con.close()"
   ]
  },
  {
   "cell_type": "code",
   "execution_count": null,
   "metadata": {},
   "outputs": [],
   "source": [
    "'''\n",
    "An object-relational mapper (ORM) is a library that automates the transfer of data stored in relational database tables into objects that are adopted in application code.\n",
    "\n",
    "ORMs offer a high-level abstraction upon a relational database, which permits a developer to write Python code rather than SQL to create, read, update and delete data and schemas in their database.\n",
    "\n",
    "Consider the sample SQL statement used to retrieve employees whose income is 10,000.00.\n",
    "\n",
    "SELECT * FROM EMPLOYEE WHERE INCOME=10000.00\n",
    "\n",
    "The equivalent Django ORM query is\n",
    "\n",
    "emps = Employee.objects.filter(income=10000.00)\n",
    "\n",
    "The above code is written in Python and easy to read.\n",
    "\n",
    "Such an ability to write Python code instead of SQL speeds up web application development.\n",
    "\n",
    "\n",
    "'''"
   ]
  },
  {
   "cell_type": "code",
   "execution_count": null,
   "metadata": {},
   "outputs": [],
   "source": [
    "#DB_Test\n",
    "\n",
    "#Test_1\n",
    "conn = sqlite3.connect('SAMPLE.db')\n",
    "    #create connection cursor\n",
    "    cursor = conn.cursor()\n",
    "\n",
    "    #create table ITEMS using the cursor\n",
    "    sql1 = '''\n",
    "\n",
    "       CREATE TABLE ITEMS (\n",
    "       item_id INT(6) NOT NULL,\n",
    "       item_name CHAR(20) NOT NULL,\n",
    "       item_description CHAR(50),\n",
    "       item_category CHAR(50),\n",
    "       quantity_in_stock INT\n",
    "       )\n",
    "      '''\n",
    "\n",
    "    #commit connection \n",
    "    conn.commit()\n",
    "\n",
    "    #close connection\n",
    "    conn.close()"
   ]
  },
  {
   "cell_type": "code",
   "execution_count": null,
   "metadata": {},
   "outputs": [],
   "source": [
    "#DB_Test\n",
    "\n",
    "#Test_2\n",
    "\n",
    "conn = sqlite3.connect('SAMPLE.db')\n",
    "    cursor = conn.cursor()\n",
    "\n",
    "    cursor.execute(\"drop table if exists ITEMS\")\n",
    "    \n",
    "    sql_statement = '''CREATE TABLE ITEMS\n",
    "    (item_id integer not null, item_name varchar(300), \n",
    "    item_description text, item_category text, \n",
    "    quantity_in_stock integer)'''\n",
    "    \n",
    "    cursor.execute(sql_statement)\n",
    "\n",
    "    items = [(101, 'Nik D300', 'Nik D300', 'DSLR Camera', 3),\n",
    "             (102, 'Can 1300', 'Can 1300', 'DSLR Camera', 5),\n",
    "             (103, 'gPhone 13S', 'gPhone 13S', 'Mobile', 10),\n",
    "             (104, 'Mic canvas', 'Mic canvas', 'Tab', 5),\n",
    "             (105, 'SnDisk 10T', 'SnDisk 10T', 'Hard Drive', 1)\n",
    "             ]\n",
    "  \n",
    "    #Add code to insert records to ITEM table\n",
    "    sql = '''\n",
    "\n",
    "       INSERT INTO ITEMS VALUES ( ?, ?, ?, ?, ?)\n",
    "\n",
    "      '''\n",
    "    try:\n",
    "        cursor.executemany(sql, items)\n",
    "        conn.commit()\n",
    "    except Exception:\n",
    "        print(\"Error Message :\", Exception)\n",
    "        conn.rollback()\n",
    "    try:    \n",
    "        cursor.execute(\"select * from ITEMS\")\n",
    "    except:\n",
    "        return 'Unable to perform the transaction.'\n",
    "    rowout=[]     \n",
    "    for row in cursor.fetchall():\n",
    "        rowout.append(row)\n",
    "    return rowout    \n",
    "    conn.close()"
   ]
  },
  {
   "cell_type": "code",
   "execution_count": 6,
   "metadata": {},
   "outputs": [],
   "source": [
    "#DB_Test\n",
    "\n",
    "#Test_3\n",
    "\n",
    "    conn = sqlite3.connect('SAMPLE.db')\n",
    "    cursor = conn.cursor()\n",
    "\n",
    "    cursor.execute(\"drop table if exists ITEMS\")\n",
    "    \n",
    "    sql_statement = '''CREATE TABLE ITEMS\n",
    "    (item_id integer not null, item_name varchar(300), \n",
    "    item_description text, item_category text, \n",
    "    quantity_in_stock integer)'''\n",
    "    \n",
    "    cursor.execute(sql_statement)\n",
    "\n",
    "    items = [(101, 'Nik D300', 'Nik D300', 'DSLR Camera', 3),\n",
    "             (102, 'Can 1300', 'Can 1300', 'DSLR Camera', 5),\n",
    "             (103, 'gPhone 13S', 'gPhone 13S', 'Mobile', 10),\n",
    "             (104, 'Mic canvas', 'Mic canvas', 'Tab', 5),\n",
    "             (105, 'SnDisk 10T', 'SnDisk 10T', 'Hard Drive', 1)\n",
    "             ]\n",
    "  \n",
    "    try:\n",
    "        cursor.executemany(\"Insert into ITEMS values (?,?,?,?,?)\", items)\n",
    "        conn.commit()\n",
    "        #Add code to select items here\n",
    "        cursor.execute(\"select * from ITEMS where item_id < 103\")\n",
    "    except:\n",
    "        return 'Unable to perform the transaction.'\n",
    "    rowout=[]     \n",
    "    for row in cursor.fetchall():\n",
    "        rowout.append(row)\n",
    "    return rowout    \n",
    "    conn.close()"
   ]
  },
  {
   "cell_type": "code",
   "execution_count": 8,
   "metadata": {},
   "outputs": [
    {
     "name": "stdout",
     "output_type": "stream",
     "text": [
      "[(101, 2), (102, 5), (103, 4), (104, 5), (105, 0)]\n"
     ]
    }
   ],
   "source": [
    "#DB_Test\n",
    "\n",
    "#Test_4\n",
    "\n",
    "\n",
    "import sqlite3\n",
    "\n",
    "\n",
    "conn = sqlite3.connect('SAMPLE.db')\n",
    "cursor = conn.cursor()\n",
    "cursor.execute(\"drop table if exists ITEMS\")\n",
    "    \n",
    "sql_statement = '''CREATE TABLE ITEMS\n",
    "    (item_id integer not null, item_name varchar(300), \n",
    "    item_description text, item_category text, \n",
    "    quantity_in_stock integer)'''\n",
    "    \n",
    "cursor.execute(sql_statement)\n",
    "    \n",
    "items = [(101, 'Nik D300', 'Nik D300', 'DSLR Camera', 3),\n",
    "             (102, 'Can 1300', 'Can 1300', 'DSLR Camera', 5),\n",
    "             (103, 'gPhone 13S', 'gPhone 13S', 'Mobile', 10),\n",
    "             (104, 'Mic canvas', 'Mic canvas', 'Tab', 5),\n",
    "             (105, 'SnDisk 10T', 'SnDisk 10T', 'Hard Drive', 1)\n",
    "             ]\n",
    "try:\n",
    "    cursor.executemany(\"Insert into ITEMS values (?,?,?,?,?)\", items)\n",
    "\n",
    "        #Add code for updating quantity_in_stock\n",
    "    cursor.execute(\"update ITEMS set quantity_in_stock = 2 where  item_id = 101\")\n",
    "    cursor.execute(\"update ITEMS set quantity_in_stock = 4 where  item_id = 103\")\n",
    "    cursor.execute(\"update ITEMS set quantity_in_stock = 0 where  item_id = 105\")\n",
    "#     cursor.execute(\"UPDATE ITEMS SET quantity_in_stock = 2,4,0 where item_id = 101,103,105\")\n",
    "    cursor.execute(\"select item_id,quantity_in_stock from ITEMS\")\n",
    "except:\n",
    "        'Unable to perform the transaction.'\n",
    "rowout=[]    \n",
    "for row in cursor.fetchall():\n",
    "    rowout.append(row)\n",
    "print(rowout)    \n",
    "conn.close()"
   ]
  },
  {
   "cell_type": "code",
   "execution_count": 12,
   "metadata": {},
   "outputs": [
    {
     "name": "stdout",
     "output_type": "stream",
     "text": [
      "[(101,), (102,), (103,), (104,)]\n"
     ]
    }
   ],
   "source": [
    "#DB_Test\n",
    "\n",
    "#Test_5\n",
    "import sqlite3\n",
    "\n",
    "conn = sqlite3.connect('SAMPLE.db')\n",
    "cursor = conn.cursor()\n",
    "\n",
    "cursor.execute(\"drop table if exists ITEMS\")\n",
    "    \n",
    "sql_statement = '''CREATE TABLE ITEMS\n",
    "    (item_id integer not null, item_name varchar(300), \n",
    "    item_description text, item_category text, \n",
    "    quantity_in_stock integer)'''\n",
    "    \n",
    "cursor.execute(sql_statement)\n",
    "\n",
    "items = [(101, 'Nik D300', 'Nik D300', 'DSLR Camera', 3),\n",
    "             (102, 'Can 1300', 'Can 1300', 'DSLR Camera', 5),\n",
    "             (103, 'gPhone 13S', 'gPhone 13S', 'Mobile', 10),\n",
    "             (104, 'Mic canvas', 'Mic canvas', 'Tab', 5),\n",
    "             (105, 'SnDisk 10T', 'SnDisk 10T', 'Hard Drive', 1)\n",
    "             ]\n",
    "  \n",
    "try:\n",
    "    cursor.executemany(\"Insert into ITEMS values (?,?,?,?,?)\", items)\n",
    "    cursor.executemany(\"update ITEMS set quantity_in_stock = ? where item_id = ?\",\n",
    "                       [(4, 103),\n",
    "                        (2, 101),\n",
    "                        (0, 105)])\n",
    "    #Add code below to delete items\n",
    "    cursor.execute('delete from ITEMS where item_id=105')\n",
    "    cursor.execute(\"select item_id from ITEMS\")\n",
    "except:\n",
    "     'Unable to perform the transaction.'\n",
    "rowout=[]     \n",
    "for row in cursor.fetchall():\n",
    "    rowout.append(row)\n",
    "print(rowout)    \n",
    "conn.close()"
   ]
  },
  {
   "cell_type": "code",
   "execution_count": 13,
   "metadata": {},
   "outputs": [
    {
     "name": "stdout",
     "output_type": "stream",
     "text": [
      "Hello Everyone!\n",
      "<class 'function'>\n",
      "Hello Everyone!\n"
     ]
    }
   ],
   "source": [
    "#Higher Order function\n",
    "\n",
    "'''\n",
    "A Higher Order function is a function, which is capable of doing any one of the following things:\n",
    "\n",
    ">It can be functioned as a data and be assigned to a variable.\n",
    "\n",
    ">It can accept any other function as an argument.\n",
    "\n",
    ">It can return a function as its result.\n",
    "\n",
    "The ability to build Higher order functions, allows a programmer to create Closures, which in turn are used to create Decorators.\n",
    "\n",
    "'''\n",
    "\n",
    "def greet():\n",
    "    return 'Hello Everyone!'\n",
    "print(greet())\n",
    "wish = greet        # 'greet' function assigned to variable 'wish'\n",
    "print(type(wish))   \n",
    "print(wish())  "
   ]
  },
  {
   "cell_type": "code",
   "execution_count": 14,
   "metadata": {},
   "outputs": [
    {
     "name": "stdout",
     "output_type": "stream",
     "text": [
      "16\n",
      "8\n",
      "48\n"
     ]
    }
   ],
   "source": [
    "def add(x, y):\n",
    "    return x + y\n",
    "def sub(x, y):\n",
    "    return x - y\n",
    "def prod(x, y):\n",
    "    return x * y\n",
    "def do(func, x, y):\n",
    "    return func(x, y)\n",
    "print(do(add, 12, 4))  # 'add' as arg\n",
    "print(do(sub, 12, 4))  # 'sub' as arg\n",
    "print(do(prod, 12, 4))  # 'prod' as arg"
   ]
  },
  {
   "cell_type": "code",
   "execution_count": 15,
   "metadata": {},
   "outputs": [
    {
     "name": "stdout",
     "output_type": "stream",
     "text": [
      "Hello world!\n"
     ]
    }
   ],
   "source": [
    "\n",
    "def outer():\n",
    "\n",
    "    def inner():\n",
    "\n",
    "        s = 'Hello world!'\n",
    "\n",
    "        return s            \n",
    "\n",
    "        \n",
    "\n",
    "    return inner()    \n",
    "\n",
    "\n",
    "\n",
    "print(outer())"
   ]
  },
  {
   "cell_type": "code",
   "execution_count": 16,
   "metadata": {},
   "outputs": [
    {
     "name": "stdout",
     "output_type": "stream",
     "text": [
      "<function outer.<locals>.inner at 0x10d0bd950>\n",
      "<class 'function'>\n",
      "Hello world!\n"
     ]
    }
   ],
   "source": [
    "def outer():\n",
    "\n",
    "    def inner():\n",
    "\n",
    "        s = 'Hello world!'\n",
    "\n",
    "        return s            \n",
    "\n",
    "        \n",
    "\n",
    "    return inner   # Removed '()' to return 'inner' function itself\n",
    "\n",
    "    \n",
    "\n",
    "print(outer()) #returns 'inner' function\n",
    "\n",
    "func = outer() \n",
    "\n",
    "print(type(func))\n",
    "\n",
    "print(func()) # calling 'inner' function\n"
   ]
  },
  {
   "cell_type": "code",
   "execution_count": 17,
   "metadata": {},
   "outputs": [
    {
     "name": "stdout",
     "output_type": "stream",
     "text": [
      "20\n",
      "24\n"
     ]
    }
   ],
   "source": [
    "#Closure\n",
    "'''\n",
    "In simplest terms, a Closure is a function returned by a higher order function, whose return value depends on the data associated with the higher order function.\n",
    "'''\n",
    "def multiple_of(x):\n",
    "    def multiple(y):\n",
    "        return x*y\n",
    "    return multiple\n",
    "c1 = multiple_of(5)  # 'c1' is a closure\n",
    "c2 = multiple_of(6)  # 'c2' is a closure\n",
    "print(c1(4))\n",
    "print(c2(4))"
   ]
  },
  {
   "cell_type": "code",
   "execution_count": 18,
   "metadata": {},
   "outputs": [
    {
     "name": "stdout",
     "output_type": "stream",
     "text": [
      "50\n"
     ]
    }
   ],
   "source": [
    "def outer(x, y):\n",
    "\n",
    "    def inner1():\n",
    "        return x+y\n",
    "\n",
    "    def inner2(z):\n",
    "        return inner1() + z\n",
    "\n",
    "    return inner2\n",
    "\n",
    "\n",
    "f = outer(10, 25)\n",
    "\n",
    "print(f(15))"
   ]
  },
  {
   "cell_type": "code",
   "execution_count": 19,
   "metadata": {},
   "outputs": [
    {
     "name": "stdout",
     "output_type": "stream",
     "text": [
      "24\n"
     ]
    }
   ],
   "source": [
    "def f(x):\n",
    "    return 3*x\n",
    "\n",
    "def g(x):\n",
    "    return 4*x\n",
    "\n",
    "print(f(g(2)))"
   ]
  },
  {
   "cell_type": "code",
   "execution_count": 7,
   "metadata": {},
   "outputs": [
    {
     "name": "stdout",
     "output_type": "stream",
     "text": [
      "True\n",
      "True\n",
      "--------------------\n",
      "True\n",
      "False\n",
      "--------------------\n",
      "False\n",
      "True\n",
      "--------------------\n",
      "False\n",
      "False\n"
     ]
    }
   ],
   "source": [
    "#Higher Order function Test1:\n",
    "\n",
    "def detector(element):\n",
    "\n",
    "    def isIn(sequence):\n",
    "        for i in sequence:\n",
    "            if(i == element):\n",
    "                return True\n",
    "        else:\n",
    "            return False\n",
    "        \n",
    "\n",
    "    return isIn\n",
    "\n",
    "\n",
    "detect30 = detector(30)\n",
    "detect45 = detector(45)\n",
    "print(detect30([2,30,45,6]))\n",
    "print(detect45([2,30,45,6]))\n",
    "print('--------------------')\n",
    "print(detect30([8,30,4,6]))\n",
    "print(detect45([8,30,4,6]))\n",
    "print('--------------------')\n",
    "print(detect30([8,31,45,6]))\n",
    "print(detect45([8,31,45,6]))\n",
    "print('--------------------')\n",
    "print(detect30([8,3,4,6,9,4,5,0,1,445,300]))\n",
    "print(detect45([8,3,4,6,9,4,5,0,1,445,300]))"
   ]
  },
  {
   "cell_type": "code",
   "execution_count": 6,
   "metadata": {},
   "outputs": [
    {
     "name": "stdout",
     "output_type": "stream",
     "text": [
      "88\n",
      "88\n",
      "89\n"
     ]
    }
   ],
   "source": [
    "#Higher Order function Test2:\n",
    "\n",
    "def factory(n=0):\n",
    "\n",
    "    def current():\n",
    "        return n\n",
    "\n",
    "    def counter():\n",
    "        n = current()\n",
    "        n += 1\n",
    "        return n\n",
    "\n",
    "    return current, counter\n",
    "\n",
    "f_current, f_counter = factory(int(input()))\n",
    "print(f_current())\n",
    "print(f_counter())"
   ]
  },
  {
   "cell_type": "code",
   "execution_count": null,
   "metadata": {},
   "outputs": [],
   "source": [
    "#Decorators\n",
    "\n",
    "'''\n",
    "Decorators are evolved from the concept of closures.\n",
    "\n",
    "A decorator function is a higher order function that takes a function as an argument and returns the inner function.\n",
    "\n",
    "A decorator is capable of adding extra functionality to an existing function, without altering it.\n",
    "\n",
    "The decorator function is prefixed with @ symbol and written above the function definition.\n",
    "\n",
    "'''"
   ]
  },
  {
   "cell_type": "code",
   "execution_count": null,
   "metadata": {},
   "outputs": [],
   "source": [
    "@outer\n",
    "\n",
    "def greet():\n",
    "    pass\n"
   ]
  },
  {
   "cell_type": "code",
   "execution_count": null,
   "metadata": {},
   "outputs": [],
   "source": [
    "'''\n",
    "First one shows the creation of closure function wish using the higher order function outer.\n",
    "\n",
    "The second one shows the creation of decorator function outer, which is used to decorate function greet. This is achieved with a small change to Example1.\n",
    "\n",
    "Third one displays decorating the greet function with decorator function, outer, using @ symbol.\n",
    "\n",
    "'''"
   ]
  },
  {
   "cell_type": "code",
   "execution_count": 3,
   "metadata": {},
   "outputs": [
    {
     "name": "stdout",
     "output_type": "stream",
     "text": [
      "Accessing : greet\n",
      "Hello!\n"
     ]
    }
   ],
   "source": [
    "def outer(func):\n",
    "    def inner():\n",
    "        print(\"Accessing :\", \n",
    "                  func.__name__)\n",
    "        return func()\n",
    "    return inner\n",
    "def greet():\n",
    "   print('Hello!')\n",
    "wish = outer(greet)\n",
    "wish()"
   ]
  },
  {
   "cell_type": "code",
   "execution_count": 7,
   "metadata": {},
   "outputs": [
    {
     "name": "stdout",
     "output_type": "stream",
     "text": [
      "Accessing : greet\n"
     ]
    },
    {
     "data": {
      "text/plain": [
       "'Hello!'"
      ]
     },
     "execution_count": 7,
     "metadata": {},
     "output_type": "execute_result"
    }
   ],
   "source": [
    "def outer(func):\n",
    "    def inner():\n",
    "        print(\"Accessing :\",func.__name__)\n",
    "        return func()\n",
    "    return inner\n",
    "def greet():\n",
    "    return 'Hello!'\n",
    "greet = outer(greet) # decorating 'greet'\n",
    "greet()  # calling new 'greet'"
   ]
  },
  {
   "cell_type": "code",
   "execution_count": 8,
   "metadata": {},
   "outputs": [
    {
     "name": "stdout",
     "output_type": "stream",
     "text": [
      "Accessing : greet\n"
     ]
    },
    {
     "data": {
      "text/plain": [
       "'Hello!'"
      ]
     },
     "execution_count": 8,
     "metadata": {},
     "output_type": "execute_result"
    }
   ],
   "source": [
    "'''\n",
    "In Python, decorating a function can also be achieved by writing decorator function name, prefixed with @ symbol, just above the function to be decorated.\n",
    "\n",
    "Hence, greet = outer(greet) expression is same as @outer.\n",
    "'''\n",
    "def outer(func):\n",
    "    def inner():\n",
    "        print(\"Accessing :\", \n",
    "                func.__name__)\n",
    "        return func()\n",
    "    return inner\n",
    "@outer\n",
    "def greet():\n",
    "    return 'Hello!'\n",
    "greet()"
   ]
  },
  {
   "cell_type": "code",
   "execution_count": 17,
   "metadata": {},
   "outputs": [
    {
     "data": {
      "text/plain": [
       "\"Accessed the function -'greet' with arguments ('Hello World!',) {}\""
      ]
     },
     "execution_count": 17,
     "metadata": {},
     "output_type": "execute_result"
    }
   ],
   "source": [
    "#Decorator Test 1:\n",
    "\n",
    "#Add log function and inner function implementation here\n",
    "def log(func):\n",
    "    def inner(*args, **kwdargs):\n",
    "        str_template = \"Accessed the function -'{}' with arguments {} {}\".format(func.__name__,\n",
    "                                                                                args,kwdargs\n",
    "                                                                                )\n",
    "        return str_template \n",
    "    return inner\n",
    "\n",
    "@log\n",
    "def greet(msg):\n",
    "    'Greeting Message : ' + msg\n",
    "    \n",
    "greet('Hello World!')\n"
   ]
  },
  {
   "cell_type": "code",
   "execution_count": 19,
   "metadata": {},
   "outputs": [
    {
     "data": {
      "text/plain": [
       "\"Accessed the function -'average' with arguments (3, 8, 16) {}\\n9.0\""
      ]
     },
     "execution_count": 19,
     "metadata": {},
     "output_type": "execute_result"
    }
   ],
   "source": [
    "#Decorator Test 2:\n",
    "\n",
    "def log(func):\n",
    "    def inner(*args, **kwdargs):\n",
    "        str_template = \"Accessed the function -'{}' with arguments {} {}\".format(func.__name__,\n",
    "                                                                                args,\n",
    "                                                                                kwdargs)\n",
    "        return str_template + \"\\n\" + str(func(*args, **kwdargs))\n",
    "    return inner\n",
    "\n",
    "#Add greet function definition here\n",
    "@log\n",
    "def average(n1,n2,n3):\n",
    "    return (n1+n2+n3)/3\n",
    "average(3,8,16)"
   ]
  },
  {
   "cell_type": "code",
   "execution_count": 20,
   "metadata": {},
   "outputs": [
    {
     "data": {
      "text/plain": [
       "'<b>Hello</b>'"
      ]
     },
     "execution_count": 20,
     "metadata": {},
     "output_type": "execute_result"
    }
   ],
   "source": [
    "#Decorator Test 3:\n",
    "\n",
    "#Define and implement bold_tag\n",
    "\n",
    "def bold_tag(func):\n",
    "    \n",
    "    def inner(*args, **kwdargs):\n",
    "        return '<b>'+func(*args, **kwdargs)+'</b>'\n",
    "        \n",
    "    return inner\n",
    "\n",
    "@bold_tag\n",
    "def say(msg):\n",
    "    return msg\n",
    "say('Hello')\n",
    "\n"
   ]
  },
  {
   "cell_type": "code",
   "execution_count": 22,
   "metadata": {},
   "outputs": [
    {
     "data": {
      "text/plain": [
       "'<i>Hello</i>'"
      ]
     },
     "execution_count": 22,
     "metadata": {},
     "output_type": "execute_result"
    }
   ],
   "source": [
    "#Decorator Test 4:\n",
    "\n",
    "def bold_tag(func):\n",
    "    \n",
    "    def inner(*args, **kwdargs):\n",
    "        return '<b>'+func(*args, **kwdargs)+'</b>'\n",
    "        \n",
    "    return inner\n",
    "\n",
    "def italic_tag(func):\n",
    "    \n",
    "    def inner(*args, **kwdargs):\n",
    "        return '<i>'+func(*args, **kwdargs)+'</i>'\n",
    "        \n",
    "    return inner\n",
    "\n",
    "#Implement italic_tag below\n",
    "\n",
    "@italic_tag\n",
    "def say(msg):\n",
    "    return msg\n",
    "\n",
    "say('Hello')\n",
    "    \n",
    "\n"
   ]
  },
  {
   "cell_type": "code",
   "execution_count": 32,
   "metadata": {},
   "outputs": [
    {
     "data": {
      "text/plain": [
       "'<i>Hello</i>'"
      ]
     },
     "execution_count": 32,
     "metadata": {},
     "output_type": "execute_result"
    }
   ],
   "source": [
    "#Decorator Test 5:\n",
    "import sys\n",
    "\n",
    "def bold_tag(func):\n",
    "    \n",
    "    def inner(*args, **kwdargs):\n",
    "        return '<b>'+func(*args, **kwdargs)+'</b>'\n",
    "        \n",
    "    return inner\n",
    "\n",
    "def italic_tag(func):\n",
    "    \n",
    "    def inner(*args, **kwdargs):\n",
    "        return '<i>'+func(*args, **kwdargs)+'</i>'\n",
    "        \n",
    "    return inner\n",
    "    \n",
    "#Add greet() function definition\n",
    "@italic_tag\n",
    "def greet(msg = sys.stdin.readline()):\n",
    "    return msg\n",
    "\n",
    "greet('Hello')\n",
    "\n"
   ]
  },
  {
   "cell_type": "code",
   "execution_count": 37,
   "metadata": {},
   "outputs": [
    {
     "name": "stdout",
     "output_type": "stream",
     "text": [
      "Hai\n"
     ]
    },
    {
     "data": {
      "text/plain": [
       "'<i>Hai</i>'"
      ]
     },
     "execution_count": 37,
     "metadata": {},
     "output_type": "execute_result"
    }
   ],
   "source": [
    "#Decorator Test 5: in different way \n",
    "\n",
    "def bold_tag(func):\n",
    "    \n",
    "    def inner(*args, **kwdargs):\n",
    "        return '<b>'+func(*args, **kwdargs)+'</b>'\n",
    "        \n",
    "    return inner\n",
    "\n",
    "def italic_tag(func):\n",
    "    \n",
    "    def inner(*args, **kwdargs):\n",
    "        return '<i>'+func(*args, **kwdargs)+'</i>'\n",
    "        \n",
    "    return inner\n",
    "    \n",
    "#Add greet() function definition\n",
    "@italic_tag\n",
    "def greet():\n",
    "    return input()\n",
    "greet()"
   ]
  },
  {
   "cell_type": "code",
   "execution_count": 35,
   "metadata": {},
   "outputs": [
    {
     "name": "stdout",
     "output_type": "stream",
     "text": [
      "Hai\n"
     ]
    },
    {
     "data": {
      "text/plain": [
       "'<i><b>Hai</b></i>'"
      ]
     },
     "execution_count": 35,
     "metadata": {},
     "output_type": "execute_result"
    }
   ],
   "source": [
    "#Decorator Test 6:\n",
    "\n",
    "def bold_tag(func):\n",
    "    \n",
    "    def inner(*args, **kwdargs):\n",
    "        return '<b>'+func(*args, **kwdargs)+'</b>'\n",
    "        \n",
    "    return inner\n",
    "\n",
    "def italic_tag(func):\n",
    "    \n",
    "    def inner(*args, **kwdargs):\n",
    "        return '<i>'+func(*args, **kwdargs)+'</i>'\n",
    "        \n",
    "    return inner\n",
    "    \n",
    "#Add greet() implementation here\n",
    "@italic_tag\n",
    "@bold_tag\n",
    "def greet():\n",
    "    return input()\n",
    "greet()"
   ]
  },
  {
   "cell_type": "code",
   "execution_count": null,
   "metadata": {},
   "outputs": [],
   "source": [
    "#Descriptors\n",
    "'''\n",
    "Python descriptors allow a programmer to create managed attributes.\n",
    "\n",
    "In other object-oriented languages, you will find getter and setter methods to manage attributes.\n",
    "\n",
    "However, Python allows a programmer to manage the attributes simply with the attribute name, without losing their protection.\n",
    "\n",
    "This is achieved by defining a descriptor class, that implements any of __get__, __set__, __delete__ methods.\n",
    "\n",
    "'''"
   ]
  },
  {
   "cell_type": "code",
   "execution_count": 1,
   "metadata": {},
   "outputs": [
    {
     "data": {
      "text/plain": [
       "'\\nThe descriptor, EmpNameDescriptor is defined to manage empname attribute.\\n\\nIt checks if the value of empname attribute is a string or not.\\n'"
      ]
     },
     "execution_count": 1,
     "metadata": {},
     "output_type": "execute_result"
    }
   ],
   "source": [
    "class EmpNameDescriptor:\n",
    "    def __get__(self, obj, owner):\n",
    "        return self.__empname\n",
    "    def __set__(self, obj, value):\n",
    "        if not isinstance(value, str):\n",
    "            raise TypeError(\"'empname' must be a string.\")\n",
    "        self.__empname = value\n",
    "'''\n",
    "The descriptor, EmpNameDescriptor is defined to manage empname attribute.\n",
    "\n",
    "It checks if the value of empname attribute is a string or not.\n",
    "'''"
   ]
  },
  {
   "cell_type": "code",
   "execution_count": null,
   "metadata": {},
   "outputs": [],
   "source": [
    "class EmpIdDescriptor:\n",
    "    def __get__(self, obj, owner):\n",
    "        return self.__empid\n",
    "    def __set__(self, obj, value):\n",
    "        if hasattr(obj, 'empid'):\n",
    "            raise ValueError(\"'empid' is read only attribute\")\n",
    "        if not isinstance(value, int):\n",
    "            raise TypeError(\"'empid' must be an integer.\")\n",
    "        self.__empid = value\n",
    "'''\n",
    "The descriptor, EmpIdDescriptor is defined to manage empid attribute.\n",
    "\n",
    "'''"
   ]
  },
  {
   "cell_type": "code",
   "execution_count": null,
   "metadata": {},
   "outputs": [],
   "source": [
    "class Employee:\n",
    "    empid = EmpIdDescriptor()           \n",
    "    empname = EmpNameDescriptor()       \n",
    "    def __init__(self, emp_id, emp_name):\n",
    "        self.empid = emp_id\n",
    "        self.empname = emp_name\n",
    "        \n",
    "'''\n",
    "Employee class is defined such that, it creates empid and empname attributes from descriptors \n",
    "EmpIdDescriptor and EmpNameDescriptor.\n",
    "'''"
   ]
  },
  {
   "cell_type": "code",
   "execution_count": null,
   "metadata": {},
   "outputs": [],
   "source": [
    "e1 = Employee(123456, 'John')\n",
    "print(e1.empid, '-', e1.empname)  \n",
    "e1.empname = 'Williams'\n",
    "print(e1.empid, '-', e1.empname)\n",
    "e1.empid = 76347322  \n",
    "\n",
    "\n",
    "'''\n",
    "You can observe that accessing attributes empid and empname appear as if you are accessing them directly.\n",
    "\n",
    "However when executing the expression e1.empid = 76347322, the __set__ method defined in EmpIdDescriptor is executed and raises \"ValueError: 'empid' is read only attribute\".\n",
    "'''"
   ]
  },
  {
   "cell_type": "code",
   "execution_count": 2,
   "metadata": {},
   "outputs": [
    {
     "name": "stdout",
     "output_type": "stream",
     "text": [
      "123456 - John\n",
      "123456 - Williams\n"
     ]
    },
    {
     "ename": "ValueError",
     "evalue": "'empid' is read only attribute",
     "output_type": "error",
     "traceback": [
      "\u001b[0;31m---------------------------------------------------------------------------\u001b[0m",
      "\u001b[0;31mValueError\u001b[0m                                Traceback (most recent call last)",
      "\u001b[0;32m<ipython-input-2-3e34ad6726fe>\u001b[0m in \u001b[0;36m<module>\u001b[0;34m\u001b[0m\n\u001b[1;32m     28\u001b[0m \u001b[0me1\u001b[0m\u001b[0;34m.\u001b[0m\u001b[0mempname\u001b[0m \u001b[0;34m=\u001b[0m \u001b[0;34m'Williams'\u001b[0m\u001b[0;34m\u001b[0m\u001b[0;34m\u001b[0m\u001b[0m\n\u001b[1;32m     29\u001b[0m \u001b[0mprint\u001b[0m\u001b[0;34m(\u001b[0m\u001b[0me1\u001b[0m\u001b[0;34m.\u001b[0m\u001b[0mempid\u001b[0m\u001b[0;34m,\u001b[0m \u001b[0;34m'-'\u001b[0m\u001b[0;34m,\u001b[0m \u001b[0me1\u001b[0m\u001b[0;34m.\u001b[0m\u001b[0mempname\u001b[0m\u001b[0;34m)\u001b[0m\u001b[0;34m\u001b[0m\u001b[0;34m\u001b[0m\u001b[0m\n\u001b[0;32m---> 30\u001b[0;31m \u001b[0me1\u001b[0m\u001b[0;34m.\u001b[0m\u001b[0mempid\u001b[0m \u001b[0;34m=\u001b[0m \u001b[0;36m76347322\u001b[0m\u001b[0;34m\u001b[0m\u001b[0;34m\u001b[0m\u001b[0m\n\u001b[0m",
      "\u001b[0;32m<ipython-input-2-3e34ad6726fe>\u001b[0m in \u001b[0;36m__set__\u001b[0;34m(self, obj, value)\u001b[0m\n\u001b[1;32m     12\u001b[0m     \u001b[0;32mdef\u001b[0m \u001b[0m__set__\u001b[0m\u001b[0;34m(\u001b[0m\u001b[0mself\u001b[0m\u001b[0;34m,\u001b[0m \u001b[0mobj\u001b[0m\u001b[0;34m,\u001b[0m \u001b[0mvalue\u001b[0m\u001b[0;34m)\u001b[0m\u001b[0;34m:\u001b[0m\u001b[0;34m\u001b[0m\u001b[0;34m\u001b[0m\u001b[0m\n\u001b[1;32m     13\u001b[0m         \u001b[0;32mif\u001b[0m \u001b[0mhasattr\u001b[0m\u001b[0;34m(\u001b[0m\u001b[0mobj\u001b[0m\u001b[0;34m,\u001b[0m \u001b[0;34m'empid'\u001b[0m\u001b[0;34m)\u001b[0m\u001b[0;34m:\u001b[0m\u001b[0;34m\u001b[0m\u001b[0;34m\u001b[0m\u001b[0m\n\u001b[0;32m---> 14\u001b[0;31m             \u001b[0;32mraise\u001b[0m \u001b[0mValueError\u001b[0m\u001b[0;34m(\u001b[0m\u001b[0;34m\"'empid' is read only attribute\"\u001b[0m\u001b[0;34m)\u001b[0m\u001b[0;34m\u001b[0m\u001b[0;34m\u001b[0m\u001b[0m\n\u001b[0m\u001b[1;32m     15\u001b[0m         \u001b[0;32mif\u001b[0m \u001b[0;32mnot\u001b[0m \u001b[0misinstance\u001b[0m\u001b[0;34m(\u001b[0m\u001b[0mvalue\u001b[0m\u001b[0;34m,\u001b[0m \u001b[0mint\u001b[0m\u001b[0;34m)\u001b[0m\u001b[0;34m:\u001b[0m\u001b[0;34m\u001b[0m\u001b[0;34m\u001b[0m\u001b[0m\n\u001b[1;32m     16\u001b[0m             \u001b[0;32mraise\u001b[0m \u001b[0mTypeError\u001b[0m\u001b[0;34m(\u001b[0m\u001b[0;34m\"'empid' must be an integer.\"\u001b[0m\u001b[0;34m)\u001b[0m\u001b[0;34m\u001b[0m\u001b[0;34m\u001b[0m\u001b[0m\n",
      "\u001b[0;31mValueError\u001b[0m: 'empid' is read only attribute"
     ]
    }
   ],
   "source": [
    "class EmpNameDescriptor:\n",
    "    def __get__(self, obj, owner):\n",
    "        return self.__empname\n",
    "    def __set__(self, obj, value):\n",
    "        if not isinstance(value, str):\n",
    "            raise TypeError(\"'empname' must be a string.\")\n",
    "        self.__empname = value\n",
    "\n",
    "class EmpIdDescriptor:\n",
    "    def __get__(self, obj, owner):\n",
    "        return self.__empid\n",
    "    def __set__(self, obj, value):\n",
    "        if hasattr(obj, 'empid'):\n",
    "            raise ValueError(\"'empid' is read only attribute\")\n",
    "        if not isinstance(value, int):\n",
    "            raise TypeError(\"'empid' must be an integer.\")\n",
    "        self.__empid = value\n",
    "\n",
    "class Employee:\n",
    "    empid = EmpIdDescriptor()           \n",
    "    empname = EmpNameDescriptor()       \n",
    "    def __init__(self, emp_id, emp_name):\n",
    "        self.empid = emp_id\n",
    "        self.empname = emp_name\n",
    "\n",
    "e1 = Employee(123456, 'John')\n",
    "print(e1.empid, '-', e1.empname)  \n",
    "e1.empname = 'Williams'\n",
    "print(e1.empid, '-', e1.empname)\n",
    "e1.empid = 76347322  "
   ]
  },
  {
   "cell_type": "code",
   "execution_count": null,
   "metadata": {},
   "outputs": [],
   "source": [
    "#Properties\n",
    "\n",
    "'''\n",
    "Descriptors can also be created using property() type.\n",
    "\n",
    "It is easy to create a descriptor for any attribute using property().\n",
    "'''\n",
    "property(fget=None, fset=None, fdel=None, doc=None)\n",
    "'''\n",
    "where,\n",
    "\n",
    "fget : attribute get method\n",
    "\n",
    "fset : attribute set method\n",
    "\n",
    "fdel – attribute delete method\n",
    "\n",
    "doc – docstring\n",
    "\n",
    "'''"
   ]
  },
  {
   "cell_type": "code",
   "execution_count": 5,
   "metadata": {},
   "outputs": [],
   "source": [
    "class Employee:\n",
    "    def __init__(self, emp_id, emp_name):\n",
    "        self.empid = emp_id\n",
    "        self.empname = emp_name\n",
    "    def getEmpID(self):\n",
    "        return self.__empid\n",
    "    def setEmpID(self, value):\n",
    "        if not isinstance(value, int):\n",
    "            raise TypeError(\"'empid' must be an integer.\")\n",
    "        self.__empid = value\n",
    "        empid = property(getEmpID, setEmpID)\n",
    "#empid attribute created using property."
   ]
  },
  {
   "cell_type": "code",
   "execution_count": 8,
   "metadata": {},
   "outputs": [],
   "source": [
    "def getEmpName(self):\n",
    "    return self.__empname\n",
    "\n",
    "def setEmpName(self, value):\n",
    "    if not isinstance(value, str):\n",
    "        raise TypeError(\"empname' must be a string.\")\n",
    "    self.__empname = value\n",
    "\n",
    "def delEmpName(self):\n",
    "    del self.__empname\n",
    "    empname = property(getEmpName, setEmpName, delEmpName)\n",
    "#empname attribute created using property. It is deleted when delEmpName method is called.\n"
   ]
  },
  {
   "cell_type": "code",
   "execution_count": null,
   "metadata": {},
   "outputs": [],
   "source": [
    "e1 = Employee(123456, 'John')\n",
    "\n",
    "print(e1.empid, '-', e1.empname)    # -> '123456 - John'\n",
    "\n",
    "del e1.empname    # Deletes 'empname'\n",
    "\n",
    "print(e1.empname) #Raises 'AttributeError'\n",
    "\n",
    "'''\n",
    "When del e1.empname is executed, it in turn calls delEmpName method.\n",
    "\n",
    "Hence accessing empname attribute after the del expression results in AttributeError.\n",
    "'''"
   ]
  },
  {
   "cell_type": "code",
   "execution_count": 9,
   "metadata": {},
   "outputs": [
    {
     "name": "stdout",
     "output_type": "stream",
     "text": [
      "123456 - John\n"
     ]
    },
    {
     "ename": "AttributeError",
     "evalue": "'Employee' object has no attribute 'empname'",
     "output_type": "error",
     "traceback": [
      "\u001b[0;31m---------------------------------------------------------------------------\u001b[0m",
      "\u001b[0;31mAttributeError\u001b[0m                            Traceback (most recent call last)",
      "\u001b[0;32m<ipython-input-9-269f88411571>\u001b[0m in \u001b[0;36m<module>\u001b[0;34m\u001b[0m\n\u001b[1;32m     29\u001b[0m \u001b[0;32mdel\u001b[0m \u001b[0me1\u001b[0m\u001b[0;34m.\u001b[0m\u001b[0mempname\u001b[0m    \u001b[0;31m# Deletes 'empname'\u001b[0m\u001b[0;34m\u001b[0m\u001b[0;34m\u001b[0m\u001b[0m\n\u001b[1;32m     30\u001b[0m \u001b[0;34m\u001b[0m\u001b[0m\n\u001b[0;32m---> 31\u001b[0;31m \u001b[0mprint\u001b[0m\u001b[0;34m(\u001b[0m\u001b[0me1\u001b[0m\u001b[0;34m.\u001b[0m\u001b[0mempname\u001b[0m\u001b[0;34m)\u001b[0m \u001b[0;31m#Raises 'AttributeError'\u001b[0m\u001b[0;34m\u001b[0m\u001b[0;34m\u001b[0m\u001b[0m\n\u001b[0m",
      "\u001b[0;31mAttributeError\u001b[0m: 'Employee' object has no attribute 'empname'"
     ]
    }
   ],
   "source": [
    "class Employee:\n",
    "    def __init__(self, emp_id, emp_name):\n",
    "        self.empid = emp_id\n",
    "        self.empname = emp_name\n",
    "    def getEmpID(self):\n",
    "        return self.__empid\n",
    "    def setEmpID(self, value):\n",
    "        if not isinstance(value, int):\n",
    "            raise TypeError(\"'empid' must be an integer.\")\n",
    "        self.__empid = value\n",
    "    empid = property(getEmpID, setEmpID)\n",
    "\n",
    "def getEmpName(self):\n",
    "    return self.__empname\n",
    "\n",
    "def setEmpName(self, value):\n",
    "    if not isinstance(value, str):\n",
    "        raise TypeError(\"empname' must be a string.\")\n",
    "    self.__empname = value\n",
    "\n",
    "def delEmpName(self):\n",
    "    del self.__empname\n",
    "empname = property(getEmpName, setEmpName, delEmpName)\n",
    "\n",
    "e1 = Employee(123456, 'John')\n",
    "\n",
    "print(e1.empid, '-', e1.empname)    # -> '123456 - John'\n",
    "\n",
    "del e1.empname    # Deletes 'empname'\n",
    "\n",
    "print(e1.empname) #Raises 'AttributeError'"
   ]
  },
  {
   "cell_type": "code",
   "execution_count": 10,
   "metadata": {},
   "outputs": [
    {
     "data": {
      "text/plain": [
       "\"\\nDescriptors can also be created with property decorators.\\n\\nWhile using property decorators, an attribute's get method will be same as its name and will be decorated with property.\\n\\nIn a case of defining any set or delete methods, they will be decorated with respective setter and deleter methods.\\n\""
      ]
     },
     "execution_count": 10,
     "metadata": {},
     "output_type": "execute_result"
    }
   ],
   "source": [
    "#Property Decorators\n",
    "'''\n",
    "Descriptors can also be created with property decorators.\n",
    "\n",
    "While using property decorators, an attribute's get method will be same as its name and will be decorated with property.\n",
    "\n",
    "In a case of defining any set or delete methods, they will be decorated with respective setter and deleter methods.\n",
    " '''"
   ]
  },
  {
   "cell_type": "code",
   "execution_count": null,
   "metadata": {},
   "outputs": [],
   "source": [
    "class Employee:\n",
    "    def __init__(self, emp_id, emp_name):\n",
    "        self.empid = emp_id\n",
    "        self.empname = emp_name\n",
    "    @property\n",
    "    def empid(self):\n",
    "        return self.__empid\n",
    "    @empid.setter\n",
    "    def empid(self, value):\n",
    "        if not isinstance(value, int):\n",
    "            raise TypeError(\"'empid' must be an integer.\")\n",
    "        self.__empid = value\n",
    "#get and set methods of empid attribute are decorated with property."
   ]
  },
  {
   "cell_type": "code",
   "execution_count": null,
   "metadata": {},
   "outputs": [],
   "source": [
    " @property\n",
    "    def empname(self):\n",
    "        return self.__empname\n",
    "    @empname.setter\n",
    "    def empname(self, value):\n",
    "        if not isinstance(value, str):\n",
    "            raise TypeError(\"'empname' must be a string.\")\n",
    "        self.__empname = value\n",
    "    @empname.deleter\n",
    "    def empname(self):\n",
    "        del self.__empname\n",
    "#get, set, and del methods of empname are decorated with property."
   ]
  },
  {
   "cell_type": "code",
   "execution_count": null,
   "metadata": {},
   "outputs": [],
   "source": [
    "e1 = Employee(123456, 'John')\n",
    "print(e1.empid, '-', e1.empname)    # -> '123456 - John'\n",
    "del e1.empname    # Deletes 'empname'\n",
    "print(e1.empname) #Raises 'AttributeError'\n",
    "\n",
    "'''\n",
    "deleter method corresponding to empname attribute is called when the expression, del e1.empname is executed.\n",
    "'''"
   ]
  },
  {
   "cell_type": "code",
   "execution_count": 13,
   "metadata": {},
   "outputs": [
    {
     "name": "stdout",
     "output_type": "stream",
     "text": [
      "123456 - John\n"
     ]
    },
    {
     "ename": "AttributeError",
     "evalue": "'Employee' object has no attribute 'empname'",
     "output_type": "error",
     "traceback": [
      "\u001b[0;31m---------------------------------------------------------------------------\u001b[0m",
      "\u001b[0;31mAttributeError\u001b[0m                            Traceback (most recent call last)",
      "\u001b[0;32m<ipython-input-13-23b215d042c2>\u001b[0m in \u001b[0;36m<module>\u001b[0;34m\u001b[0m\n\u001b[1;32m     25\u001b[0m \u001b[0mprint\u001b[0m\u001b[0;34m(\u001b[0m\u001b[0me1\u001b[0m\u001b[0;34m.\u001b[0m\u001b[0mempid\u001b[0m\u001b[0;34m,\u001b[0m \u001b[0;34m'-'\u001b[0m\u001b[0;34m,\u001b[0m \u001b[0me1\u001b[0m\u001b[0;34m.\u001b[0m\u001b[0mempname\u001b[0m\u001b[0;34m)\u001b[0m    \u001b[0;31m# -> '123456 - John'\u001b[0m\u001b[0;34m\u001b[0m\u001b[0;34m\u001b[0m\u001b[0m\n\u001b[1;32m     26\u001b[0m \u001b[0;32mdel\u001b[0m \u001b[0me1\u001b[0m\u001b[0;34m.\u001b[0m\u001b[0mempname\u001b[0m    \u001b[0;31m# Deletes 'empname'\u001b[0m\u001b[0;34m\u001b[0m\u001b[0;34m\u001b[0m\u001b[0m\n\u001b[0;32m---> 27\u001b[0;31m \u001b[0mprint\u001b[0m\u001b[0;34m(\u001b[0m\u001b[0me1\u001b[0m\u001b[0;34m.\u001b[0m\u001b[0mempname\u001b[0m\u001b[0;34m)\u001b[0m \u001b[0;31m#Raises 'AttributeError'\u001b[0m\u001b[0;34m\u001b[0m\u001b[0;34m\u001b[0m\u001b[0m\n\u001b[0m",
      "\u001b[0;31mAttributeError\u001b[0m: 'Employee' object has no attribute 'empname'"
     ]
    }
   ],
   "source": [
    "class Employee:\n",
    "    def __init__(self, emp_id, emp_name):\n",
    "        self.empid = emp_id\n",
    "        self.empname = emp_name\n",
    "@property\n",
    "def empid(self):\n",
    "    return self.__empid\n",
    "@empid.setter\n",
    "def empid(self, value):\n",
    "    if not isinstance(value, int):\n",
    "        raise TypeError(\"'empid' must be an integer.\")\n",
    "    self.__empid = value\n",
    "@property\n",
    "def empname(self):\n",
    "    return self.__empname\n",
    "@empname.setter\n",
    "def empname(self, value):\n",
    "    if not isinstance(value, str):\n",
    "        raise TypeError(\"'empname' must be a string.\")\n",
    "    self.__empname = value\n",
    "@empname.deleter\n",
    "def empname(self):\n",
    "    del self.__empname\n",
    "e1 = Employee(123456, 'John')\n",
    "print(e1.empid, '-', e1.empname)    # -> '123456 - John'\n",
    "del e1.empname    # Deletes 'empname'\n",
    "print(e1.empname) #Raises 'AttributeError'"
   ]
  },
  {
   "cell_type": "code",
   "execution_count": 19,
   "metadata": {},
   "outputs": [
    {
     "name": "stdout",
     "output_type": "stream",
     "text": [
      "32.0\n",
      "0.0\n"
     ]
    }
   ],
   "source": [
    "#Descriptors and properties Test\n",
    "\n",
    "# Add Celsius class implementation below.\n",
    "class Celsius:\n",
    "\n",
    "    def __get__(self, instance, owner):\n",
    "        return 5 * (instance.fahrenheit - 32) / 9\n",
    "\n",
    "    def __set__(self, instance, value):\n",
    "        instance.fahrenheit = 32 + 9 * value / 5\n",
    "\n",
    "# Add temperature class implementation below. \n",
    "\n",
    "\n",
    "\n",
    "class Temperature:\n",
    "    celsius = Celsius()\n",
    "    def __init__(self, initial_f):\n",
    "        self.fahrenheit = initial_f\n",
    "    @property\n",
    "    def fahrenheit(self):\n",
    "        return self.__fahrenheit\n",
    "    @fahrenheit.setter\n",
    "    def fahrenheit(self, value):\n",
    "        self.__fahrenheit = value\n",
    "        \n",
    "t1 = Temperature(32)\n",
    "t1.celsius = 0\n",
    "\n",
    "print(t1.fahrenheit)\n",
    "print(t1.celsius)\n"
   ]
  },
  {
   "cell_type": "code",
   "execution_count": 20,
   "metadata": {},
   "outputs": [
    {
     "ename": "AttributeError",
     "evalue": "can't set attribute",
     "output_type": "error",
     "traceback": [
      "\u001b[0;31m---------------------------------------------------------------------------\u001b[0m",
      "\u001b[0;31mAttributeError\u001b[0m                            Traceback (most recent call last)",
      "\u001b[0;32m<ipython-input-20-46b7292c3ea4>\u001b[0m in \u001b[0;36m<module>\u001b[0;34m\u001b[0m\n\u001b[1;32m      9\u001b[0m \u001b[0;34m\u001b[0m\u001b[0m\n\u001b[1;32m     10\u001b[0m \u001b[0ma\u001b[0m \u001b[0;34m=\u001b[0m \u001b[0mA\u001b[0m\u001b[0;34m(\u001b[0m\u001b[0;36m7\u001b[0m\u001b[0;34m)\u001b[0m\u001b[0;34m\u001b[0m\u001b[0;34m\u001b[0m\u001b[0m\n\u001b[0;32m---> 11\u001b[0;31m \u001b[0ma\u001b[0m\u001b[0;34m.\u001b[0m\u001b[0mx\u001b[0m \u001b[0;34m=\u001b[0m \u001b[0;36m10\u001b[0m\u001b[0;34m\u001b[0m\u001b[0;34m\u001b[0m\u001b[0m\n\u001b[0m\u001b[1;32m     12\u001b[0m \u001b[0mprint\u001b[0m\u001b[0;34m(\u001b[0m\u001b[0ma\u001b[0m\u001b[0;34m.\u001b[0m\u001b[0mx\u001b[0m\u001b[0;34m)\u001b[0m\u001b[0;34m\u001b[0m\u001b[0;34m\u001b[0m\u001b[0m\n",
      "\u001b[0;31mAttributeError\u001b[0m: can't set attribute"
     ]
    }
   ],
   "source": [
    "class A:\n",
    "\n",
    "    def __init__(self, x):\n",
    "        self.__x = x\n",
    "\n",
    "    @property\n",
    "    def x(self):\n",
    "        return self.__x\n",
    "\n",
    "a = A(7)\n",
    "a.x = 10\n",
    "print(a.x)"
   ]
  },
  {
   "cell_type": "code",
   "execution_count": 21,
   "metadata": {},
   "outputs": [
    {
     "ename": "ValueError",
     "evalue": "Only Int or float is allowed",
     "output_type": "error",
     "traceback": [
      "\u001b[0;31m---------------------------------------------------------------------------\u001b[0m",
      "\u001b[0;31mValueError\u001b[0m                                Traceback (most recent call last)",
      "\u001b[0;32m<ipython-input-21-18e11f5a7be3>\u001b[0m in \u001b[0;36m<module>\u001b[0;34m\u001b[0m\n\u001b[1;32m     15\u001b[0m \u001b[0;34m\u001b[0m\u001b[0m\n\u001b[1;32m     16\u001b[0m \u001b[0ma\u001b[0m \u001b[0;34m=\u001b[0m \u001b[0mA\u001b[0m\u001b[0;34m(\u001b[0m\u001b[0;36m7\u001b[0m\u001b[0;34m)\u001b[0m\u001b[0;34m\u001b[0m\u001b[0;34m\u001b[0m\u001b[0m\n\u001b[0;32m---> 17\u001b[0;31m \u001b[0ma\u001b[0m\u001b[0;34m.\u001b[0m\u001b[0mx\u001b[0m \u001b[0;34m=\u001b[0m \u001b[0;34m'George'\u001b[0m\u001b[0;34m\u001b[0m\u001b[0;34m\u001b[0m\u001b[0m\n\u001b[0m\u001b[1;32m     18\u001b[0m \u001b[0mprint\u001b[0m\u001b[0;34m(\u001b[0m\u001b[0ma\u001b[0m\u001b[0;34m.\u001b[0m\u001b[0mx\u001b[0m\u001b[0;34m)\u001b[0m\u001b[0;34m\u001b[0m\u001b[0;34m\u001b[0m\u001b[0m\n",
      "\u001b[0;32m<ipython-input-21-18e11f5a7be3>\u001b[0m in \u001b[0;36mx\u001b[0;34m(self, value)\u001b[0m\n\u001b[1;32m     11\u001b[0m     \u001b[0;32mdef\u001b[0m \u001b[0mx\u001b[0m\u001b[0;34m(\u001b[0m\u001b[0mself\u001b[0m\u001b[0;34m,\u001b[0m \u001b[0mvalue\u001b[0m\u001b[0;34m)\u001b[0m\u001b[0;34m:\u001b[0m\u001b[0;34m\u001b[0m\u001b[0;34m\u001b[0m\u001b[0m\n\u001b[1;32m     12\u001b[0m         \u001b[0;32mif\u001b[0m \u001b[0;32mnot\u001b[0m \u001b[0misinstance\u001b[0m\u001b[0;34m(\u001b[0m\u001b[0mvalue\u001b[0m\u001b[0;34m,\u001b[0m \u001b[0;34m(\u001b[0m\u001b[0mint\u001b[0m\u001b[0;34m,\u001b[0m \u001b[0mfloat\u001b[0m\u001b[0;34m)\u001b[0m\u001b[0;34m)\u001b[0m\u001b[0;34m:\u001b[0m\u001b[0;34m\u001b[0m\u001b[0;34m\u001b[0m\u001b[0m\n\u001b[0;32m---> 13\u001b[0;31m             \u001b[0;32mraise\u001b[0m \u001b[0mValueError\u001b[0m\u001b[0;34m(\u001b[0m\u001b[0;34m'Only Int or float is allowed'\u001b[0m\u001b[0;34m)\u001b[0m\u001b[0;34m\u001b[0m\u001b[0;34m\u001b[0m\u001b[0m\n\u001b[0m\u001b[1;32m     14\u001b[0m         \u001b[0mself\u001b[0m\u001b[0;34m.\u001b[0m\u001b[0m__x\u001b[0m \u001b[0;34m=\u001b[0m \u001b[0mvalue\u001b[0m\u001b[0;34m\u001b[0m\u001b[0;34m\u001b[0m\u001b[0m\n\u001b[1;32m     15\u001b[0m \u001b[0;34m\u001b[0m\u001b[0m\n",
      "\u001b[0;31mValueError\u001b[0m: Only Int or float is allowed"
     ]
    }
   ],
   "source": [
    "class A:\n",
    "\n",
    "    def __init__(self, value):\n",
    "        self.x = value\n",
    "\n",
    "    @property\n",
    "    def x(self):\n",
    "        return self.__x\n",
    "\n",
    "    @x.setter\n",
    "    def x(self, value):\n",
    "        if not isinstance(value, (int, float)):\n",
    "            raise ValueError('Only Int or float is allowed')\n",
    "        self.__x = value\n",
    "\n",
    "a = A(7)\n",
    "a.x = 'George'\n",
    "print(a.x)"
   ]
  },
  {
   "cell_type": "code",
   "execution_count": 22,
   "metadata": {},
   "outputs": [
    {
     "ename": "AttributeError",
     "evalue": "'A' object has no attribute '_A__x'",
     "output_type": "error",
     "traceback": [
      "\u001b[0;31m---------------------------------------------------------------------------\u001b[0m",
      "\u001b[0;31mAttributeError\u001b[0m                            Traceback (most recent call last)",
      "\u001b[0;32m<ipython-input-22-ce4d995a5163>\u001b[0m in \u001b[0;36m<module>\u001b[0;34m\u001b[0m\n\u001b[1;32m     18\u001b[0m \u001b[0ma\u001b[0m \u001b[0;34m=\u001b[0m \u001b[0mA\u001b[0m\u001b[0;34m(\u001b[0m\u001b[0;36m7\u001b[0m\u001b[0;34m)\u001b[0m\u001b[0;34m\u001b[0m\u001b[0;34m\u001b[0m\u001b[0m\n\u001b[1;32m     19\u001b[0m \u001b[0;32mdel\u001b[0m \u001b[0ma\u001b[0m\u001b[0;34m.\u001b[0m\u001b[0mx\u001b[0m\u001b[0;34m\u001b[0m\u001b[0;34m\u001b[0m\u001b[0m\n\u001b[0;32m---> 20\u001b[0;31m \u001b[0mprint\u001b[0m\u001b[0;34m(\u001b[0m\u001b[0ma\u001b[0m\u001b[0;34m.\u001b[0m\u001b[0mx\u001b[0m\u001b[0;34m)\u001b[0m\u001b[0;34m\u001b[0m\u001b[0;34m\u001b[0m\u001b[0m\n\u001b[0m",
      "\u001b[0;32m<ipython-input-22-ce4d995a5163>\u001b[0m in \u001b[0;36mx\u001b[0;34m(self)\u001b[0m\n\u001b[1;32m      6\u001b[0m     \u001b[0;34m@\u001b[0m\u001b[0mproperty\u001b[0m\u001b[0;34m\u001b[0m\u001b[0;34m\u001b[0m\u001b[0m\n\u001b[1;32m      7\u001b[0m     \u001b[0;32mdef\u001b[0m \u001b[0mx\u001b[0m\u001b[0;34m(\u001b[0m\u001b[0mself\u001b[0m\u001b[0;34m)\u001b[0m\u001b[0;34m:\u001b[0m\u001b[0;34m\u001b[0m\u001b[0;34m\u001b[0m\u001b[0m\n\u001b[0;32m----> 8\u001b[0;31m         \u001b[0;32mreturn\u001b[0m \u001b[0mself\u001b[0m\u001b[0;34m.\u001b[0m\u001b[0m__x\u001b[0m\u001b[0;34m\u001b[0m\u001b[0;34m\u001b[0m\u001b[0m\n\u001b[0m\u001b[1;32m      9\u001b[0m \u001b[0;34m\u001b[0m\u001b[0m\n\u001b[1;32m     10\u001b[0m     \u001b[0;34m@\u001b[0m\u001b[0mx\u001b[0m\u001b[0;34m.\u001b[0m\u001b[0msetter\u001b[0m\u001b[0;34m\u001b[0m\u001b[0;34m\u001b[0m\u001b[0m\n",
      "\u001b[0;31mAttributeError\u001b[0m: 'A' object has no attribute '_A__x'"
     ]
    }
   ],
   "source": [
    "class A:\n",
    "\n",
    "    def __init__(self, val):\n",
    "        self.x = val\n",
    "\n",
    "    @property\n",
    "    def x(self):\n",
    "        return self.__x\n",
    "\n",
    "    @x.setter\n",
    "    def x(self, val):\n",
    "        self.__x = val\n",
    "        \n",
    "    @x.deleter\n",
    "    def x(self):\n",
    "        del self.__x\n",
    "\n",
    "a = A(7)\n",
    "del a.x\n",
    "print(a.x)"
   ]
  },
  {
   "cell_type": "code",
   "execution_count": null,
   "metadata": {},
   "outputs": [],
   "source": [
    "#Class & Static methods\n",
    "'''\n",
    "You have read about function, higher order function, closures etc. Now, it is time to learn about their scope. Based on the scope, functions/methods are of two types. They are:\n",
    "\n",
    "Class methods\n",
    "\n",
    "Static methods\n",
    "\n",
    "\n",
    "\n",
    "A method defined inside a class is bound to its object, by default.\n",
    "\n",
    "However, if the method is bound to a Class, then it is known as classmethod.\n",
    "\n",
    "Consider the following two examples:\n",
    "\n",
    "Example 1 defines the method getCirclesCount, bound to an object of Circle class.\n",
    "\n",
    "Example 2 defines the classmethod getCirclesCount, bound to class Circle.\n",
    "'''"
   ]
  },
  {
   "cell_type": "code",
   "execution_count": 23,
   "metadata": {},
   "outputs": [
    {
     "name": "stdout",
     "output_type": "stream",
     "text": [
      "3\n",
      "3\n",
      "3\n"
     ]
    },
    {
     "ename": "TypeError",
     "evalue": "getCirclesCount() missing 1 required positional argument: 'self'",
     "output_type": "error",
     "traceback": [
      "\u001b[0;31m---------------------------------------------------------------------------\u001b[0m",
      "\u001b[0;31mTypeError\u001b[0m                                 Traceback (most recent call last)",
      "\u001b[0;32m<ipython-input-23-ae7cda455c4a>\u001b[0m in \u001b[0;36m<module>\u001b[0;34m\u001b[0m\n\u001b[1;32m     12\u001b[0m \u001b[0mprint\u001b[0m\u001b[0;34m(\u001b[0m\u001b[0mc2\u001b[0m\u001b[0;34m.\u001b[0m\u001b[0mgetCirclesCount\u001b[0m\u001b[0;34m(\u001b[0m\u001b[0;34m)\u001b[0m\u001b[0;34m)\u001b[0m     \u001b[0;31m# -> 3\u001b[0m\u001b[0;34m\u001b[0m\u001b[0;34m\u001b[0m\u001b[0m\n\u001b[1;32m     13\u001b[0m \u001b[0mprint\u001b[0m\u001b[0;34m(\u001b[0m\u001b[0mCircle\u001b[0m\u001b[0;34m.\u001b[0m\u001b[0mgetCirclesCount\u001b[0m\u001b[0;34m(\u001b[0m\u001b[0mc3\u001b[0m\u001b[0;34m)\u001b[0m\u001b[0;34m)\u001b[0m \u001b[0;31m# -> 3\u001b[0m\u001b[0;34m\u001b[0m\u001b[0;34m\u001b[0m\u001b[0m\n\u001b[0;32m---> 14\u001b[0;31m \u001b[0mprint\u001b[0m\u001b[0;34m(\u001b[0m\u001b[0mCircle\u001b[0m\u001b[0;34m.\u001b[0m\u001b[0mgetCirclesCount\u001b[0m\u001b[0;34m(\u001b[0m\u001b[0;34m)\u001b[0m\u001b[0;34m)\u001b[0m \u001b[0;31m# -> TypeError\u001b[0m\u001b[0;34m\u001b[0m\u001b[0;34m\u001b[0m\u001b[0m\n\u001b[0m",
      "\u001b[0;31mTypeError\u001b[0m: getCirclesCount() missing 1 required positional argument: 'self'"
     ]
    }
   ],
   "source": [
    "class Circle(object):\n",
    "    no_of_circles = 0\n",
    "    def __init__(self, radius):\n",
    "        self.__radius = radius\n",
    "        Circle.no_of_circles += 1\n",
    "    def getCirclesCount(self):\n",
    "        return Circle.no_of_circles\n",
    "c1 = Circle(3.5)\n",
    "c2 = Circle(5.2)\n",
    "c3 = Circle(4.8)\n",
    "print(c1.getCirclesCount())     # -> 3\n",
    "print(c2.getCirclesCount())     # -> 3\n",
    "print(Circle.getCirclesCount(c3)) # -> 3\n",
    "print(Circle.getCirclesCount()) # -> TypeError"
   ]
  },
  {
   "cell_type": "code",
   "execution_count": 24,
   "metadata": {},
   "outputs": [
    {
     "name": "stdout",
     "output_type": "stream",
     "text": [
      "3\n",
      "3\n",
      "3\n"
     ]
    }
   ],
   "source": [
    "class Circle(object):\n",
    "    no_of_circles = 0\n",
    "    def __init__(self, radius):\n",
    "        self.__radius = radius\n",
    "        Circle.no_of_circles += 1\n",
    "    @classmethod\n",
    "    def getCirclesCount(self):\n",
    "        return Circle.no_of_circles\n",
    "c1 = Circle(3.5)\n",
    "c2 = Circle(5.2)\n",
    "c3 = Circle(4.8)\n",
    "\n",
    "print(c1.getCirclesCount())     # -> 3\n",
    "\n",
    "print(c2.getCirclesCount())     # -> 3\n",
    "\n",
    "print(Circle.getCirclesCount()) # -> 3\n"
   ]
  },
  {
   "cell_type": "code",
   "execution_count": null,
   "metadata": {},
   "outputs": [],
   "source": [
    "'''\n",
    "Static Method\n",
    "A method defined inside a class and not bound to either a class or an object is known as Static Method.\n",
    "\n",
    "Decorating a method using @staticmethod decorator makes it a static method.\n",
    "\n",
    "Consider the following two examples:\n",
    "\n",
    "Example1 defines the method square, outside the class definition of Circle, and uses it inside the class Circle.\n",
    "\n",
    "Example2 defines the static method square, inside the class Circle, and uses it.\n",
    "'''"
   ]
  },
  {
   "cell_type": "code",
   "execution_count": 25,
   "metadata": {},
   "outputs": [
    {
     "name": "stdout",
     "output_type": "stream",
     "text": [
      "47.7594\n",
      "100\n"
     ]
    }
   ],
   "source": [
    "def square(x):\n",
    "        return x**2\n",
    "class Circle(object):\n",
    "    def __init__(self, radius):\n",
    "        self.__radius = radius\n",
    "    def area(self):\n",
    "        return 3.14*square(self.__radius)\n",
    "c1 = Circle(3.9)\n",
    "print(c1.area())\n",
    "print(square(10))"
   ]
  },
  {
   "cell_type": "code",
   "execution_count": 27,
   "metadata": {},
   "outputs": [
    {
     "name": "stdout",
     "output_type": "stream",
     "text": [
      "47.7594\n",
      "100\n",
      "100\n",
      "100\n"
     ]
    }
   ],
   "source": [
    "class Circle(object):\n",
    "    def __init__(self, radius):\n",
    "        self.__radius = radius\n",
    "    @staticmethod\n",
    "    def square(x):\n",
    "        return x**2\n",
    "    def area(self):\n",
    "        return 3.14*self.square(self.__radius)\n",
    "c1 = Circle(3.9)\n",
    "print(c1.area())  \n",
    "print(square(10)) # -> NameError\n",
    "\n",
    "print(Circle.square(10)) # -> 100\n",
    "\n",
    "print(c1.square(10))     # -> 100\n"
   ]
  },
  {
   "cell_type": "code",
   "execution_count": 28,
   "metadata": {},
   "outputs": [
    {
     "ename": "TypeError",
     "evalue": "'classmethod' object is not callable",
     "output_type": "error",
     "traceback": [
      "\u001b[0;31m---------------------------------------------------------------------------\u001b[0m",
      "\u001b[0;31mTypeError\u001b[0m                                 Traceback (most recent call last)",
      "\u001b[0;32m<ipython-input-28-67281bb618b6>\u001b[0m in \u001b[0;36m<module>\u001b[0;34m\u001b[0m\n\u001b[1;32m      6\u001b[0m         \u001b[0mprint\u001b[0m\u001b[0;34m(\u001b[0m\u001b[0;34m'Hello'\u001b[0m\u001b[0;34m)\u001b[0m\u001b[0;34m\u001b[0m\u001b[0;34m\u001b[0m\u001b[0m\n\u001b[1;32m      7\u001b[0m \u001b[0;34m\u001b[0m\u001b[0m\n\u001b[0;32m----> 8\u001b[0;31m \u001b[0mA\u001b[0m\u001b[0;34m.\u001b[0m\u001b[0mm1\u001b[0m\u001b[0;34m(\u001b[0m\u001b[0;36m5\u001b[0m\u001b[0;34m)\u001b[0m\u001b[0;34m\u001b[0m\u001b[0;34m\u001b[0m\u001b[0m\n\u001b[0m",
      "\u001b[0;31mTypeError\u001b[0m: 'classmethod' object is not callable"
     ]
    }
   ],
   "source": [
    "class A:\n",
    "\n",
    "    @staticmethod\n",
    "    @classmethod\n",
    "    def m1(self):\n",
    "        print('Hello')\n",
    "\n",
    "A.m1(5)"
   ]
  },
  {
   "cell_type": "code",
   "execution_count": 29,
   "metadata": {},
   "outputs": [
    {
     "name": "stdout",
     "output_type": "stream",
     "text": [
      "Class Method\n"
     ]
    }
   ],
   "source": [
    "class A:\n",
    "\n",
    "    @staticmethod\n",
    "    def m1(self):\n",
    "        print('Static Method')\n",
    "\n",
    "    @classmethod\n",
    "    def m1(self):\n",
    "        print('Class Method')\n",
    "\n",
    "A.m1()"
   ]
  },
  {
   "cell_type": "code",
   "execution_count": 30,
   "metadata": {},
   "outputs": [
    {
     "name": "stdout",
     "output_type": "stream",
     "text": [
      "21\n"
     ]
    }
   ],
   "source": [
    "def s1(x, y):\n",
    "    return x*y\n",
    "\n",
    "class A:\n",
    "\n",
    "    @staticmethod\n",
    "    def s1(x, y):\n",
    "        return x + y\n",
    "\n",
    "    def s2(self, x, y):\n",
    "        return s1(x, y)\n",
    "\n",
    "a = A()\n",
    "print(a.s2(3, 7))"
   ]
  },
  {
   "cell_type": "code",
   "execution_count": null,
   "metadata": {},
   "outputs": [],
   "source": [
    "#Test 1\n",
    "class Circle:\n",
    "    no_of_circles = 0\n",
    "    def __init__(self, radius):\n",
    "        self.__radius = radius\n",
    "        Circle.no_of_circles += 1\n",
    "    @staticmethod\n",
    "    def square(x):\n",
    "        return x**2\n",
    "    def area(self):\n",
    "        return 3.14*self.square(self.__radius)\n"
   ]
  },
  {
   "cell_type": "code",
   "execution_count": null,
   "metadata": {},
   "outputs": [],
   "source": [
    "#Test 2\n",
    "class Circle:\n",
    "    no_of_circles = 0\n",
    "    def __init__(self, radius):\n",
    "        self.__radius = radius\n",
    "        Circle.no_of_circles += 1\n",
    "    @staticmethod\n",
    "    def getCircleCount():\n",
    "        return Circle.no_of_circles\n",
    "\n",
    "    \n",
    "    def area(self):\n",
    "        a = 3.14*self.__radius*self.__radius\n",
    "        b = float(\"{0:.2f}\".format(a))\n",
    "        return b\n",
    "\n",
    "    "
   ]
  },
  {
   "cell_type": "code",
   "execution_count": null,
   "metadata": {},
   "outputs": [],
   "source": [
    "#Test 3\n",
    "#Add circle class implementation here\n",
    "class Circle:\n",
    "    no_of_circles = 0\n",
    "    def __init__(self, radius):\n",
    "        self.__radius = radius\n",
    "        Circle.no_of_circles += 1\n",
    "    @staticmethod\n",
    "    def getPi():\n",
    "        return 3.14\n",
    "    @staticmethod\n",
    "    def getCircleCount():\n",
    "        return Circle.no_of_circles\n",
    "\n",
    "    \n",
    "    def area(self):\n",
    "        r = Circle.getPi()\n",
    "        a = r*self.__radius*self.__radius\n",
    "        b = float(\"{0:.2f}\".format(a))\n",
    "        return b"
   ]
  },
  {
   "cell_type": "code",
   "execution_count": null,
   "metadata": {},
   "outputs": [],
   "source": [
    "#Abstract Base Class\n",
    "'''\n",
    "An Abstract Base Class or ABC mandates the derived classes to implement specific methods from the base class.\n",
    "\n",
    "It is not possible to create an object from a defined ABC class.\n",
    "\n",
    "Creating objects of derived classes is possible only when derived classes override existing functionality of all abstract methods defined in an ABC class.\n",
    "\n",
    "'''"
   ]
  },
  {
   "cell_type": "code",
   "execution_count": 31,
   "metadata": {},
   "outputs": [
    {
     "ename": "TypeError",
     "evalue": "Can't instantiate abstract class Shape with abstract methods area, perimeter",
     "output_type": "error",
     "traceback": [
      "\u001b[0;31m---------------------------------------------------------------------------\u001b[0m",
      "\u001b[0;31mTypeError\u001b[0m                                 Traceback (most recent call last)",
      "\u001b[0;32m<ipython-input-31-ee38e471b3ad>\u001b[0m in \u001b[0;36m<module>\u001b[0;34m\u001b[0m\n\u001b[1;32m      7\u001b[0m     \u001b[0;32mdef\u001b[0m \u001b[0mperimeter\u001b[0m\u001b[0;34m(\u001b[0m\u001b[0mself\u001b[0m\u001b[0;34m)\u001b[0m\u001b[0;34m:\u001b[0m\u001b[0;34m\u001b[0m\u001b[0;34m\u001b[0m\u001b[0m\n\u001b[1;32m      8\u001b[0m         \u001b[0;32mpass\u001b[0m\u001b[0;34m\u001b[0m\u001b[0;34m\u001b[0m\u001b[0m\n\u001b[0;32m----> 9\u001b[0;31m \u001b[0ms1\u001b[0m \u001b[0;34m=\u001b[0m \u001b[0mShape\u001b[0m\u001b[0;34m(\u001b[0m\u001b[0;34m)\u001b[0m\u001b[0;34m\u001b[0m\u001b[0;34m\u001b[0m\u001b[0m\n\u001b[0m",
      "\u001b[0;31mTypeError\u001b[0m: Can't instantiate abstract class Shape with abstract methods area, perimeter"
     ]
    }
   ],
   "source": [
    "from abc import ABC, abstractmethod\n",
    "class Shape(ABC):\n",
    "    @abstractmethod\n",
    "    def area(self):\n",
    "        pass\n",
    "    @abstractmethod\n",
    "    def perimeter(self):\n",
    "        pass\n",
    "s1 = Shape()"
   ]
  },
  {
   "cell_type": "code",
   "execution_count": 32,
   "metadata": {},
   "outputs": [
    {
     "ename": "TypeError",
     "evalue": "Can't instantiate abstract class Circle with abstract methods perimeter",
     "output_type": "error",
     "traceback": [
      "\u001b[0;31m---------------------------------------------------------------------------\u001b[0m",
      "\u001b[0;31mTypeError\u001b[0m                                 Traceback (most recent call last)",
      "\u001b[0;32m<ipython-input-32-9a2e872284bf>\u001b[0m in \u001b[0;36m<module>\u001b[0;34m\u001b[0m\n\u001b[1;32m     15\u001b[0m     \u001b[0;32mdef\u001b[0m \u001b[0marea\u001b[0m\u001b[0;34m(\u001b[0m\u001b[0mself\u001b[0m\u001b[0;34m)\u001b[0m\u001b[0;34m:\u001b[0m\u001b[0;34m\u001b[0m\u001b[0;34m\u001b[0m\u001b[0m\n\u001b[1;32m     16\u001b[0m         \u001b[0;32mreturn\u001b[0m \u001b[0;36m3.14\u001b[0m\u001b[0;34m*\u001b[0m\u001b[0mself\u001b[0m\u001b[0;34m.\u001b[0m\u001b[0msquare\u001b[0m\u001b[0;34m(\u001b[0m\u001b[0mself\u001b[0m\u001b[0;34m.\u001b[0m\u001b[0m__radius\u001b[0m\u001b[0;34m)\u001b[0m\u001b[0;34m\u001b[0m\u001b[0;34m\u001b[0m\u001b[0m\n\u001b[0;32m---> 17\u001b[0;31m \u001b[0mc1\u001b[0m \u001b[0;34m=\u001b[0m \u001b[0mCircle\u001b[0m\u001b[0;34m(\u001b[0m\u001b[0;36m3.9\u001b[0m\u001b[0;34m)\u001b[0m\u001b[0;34m\u001b[0m\u001b[0;34m\u001b[0m\u001b[0m\n\u001b[0m",
      "\u001b[0;31mTypeError\u001b[0m: Can't instantiate abstract class Circle with abstract methods perimeter"
     ]
    }
   ],
   "source": [
    "from abc import ABC, abstractmethod\n",
    "class Shape(ABC):\n",
    "    @abstractmethod\n",
    "    def area(self):\n",
    "        pass\n",
    "    @abstractmethod\n",
    "    def perimeter(self):\n",
    "        pass\n",
    "class Circle(Shape):\n",
    "    def __init__(self, radius):\n",
    "        self.__radius = radius\n",
    "    @staticmethod\n",
    "    def square(x):\n",
    "        return x**2\n",
    "    def area(self):\n",
    "        return 3.14*self.square(self.__radius)\n",
    "c1 = Circle(3.9)"
   ]
  },
  {
   "cell_type": "code",
   "execution_count": 33,
   "metadata": {},
   "outputs": [
    {
     "name": "stdout",
     "output_type": "stream",
     "text": [
      "47.7594\n",
      "24.492\n"
     ]
    }
   ],
   "source": [
    "class Circle(Shape):\n",
    "    def __init__(self, radius):\n",
    "        self.__radius = radius\n",
    "    @staticmethod\n",
    "    def square(x):\n",
    "        return x**2\n",
    "    def area(self):\n",
    "        return 3.14*self.square(self.__radius)\n",
    "    def perimeter(self):\n",
    "        return 2*3.14*self.__radius\n",
    "c1 = Circle(3.9)\n",
    "print(c1.area())\n",
    "print(c1.perimeter())"
   ]
  },
  {
   "cell_type": "code",
   "execution_count": 34,
   "metadata": {},
   "outputs": [
    {
     "name": "stdout",
     "output_type": "stream",
     "text": [
      "In class B, Method m1.\n"
     ]
    }
   ],
   "source": [
    "from abc import ABC, abstractmethod\n",
    "\n",
    "class A(ABC):\n",
    "\n",
    "    @abstractmethod\n",
    "    def m1(self):\n",
    "        print('In class A, Method m1.')\n",
    "\n",
    "class B(A):\n",
    "\n",
    "    @staticmethod\n",
    "    def m1(self):\n",
    "        print('In class B, Method m1.')\n",
    "\n",
    "b = B()\n",
    "B.m1(b)"
   ]
  },
  {
   "cell_type": "code",
   "execution_count": 35,
   "metadata": {},
   "outputs": [
    {
     "name": "stdout",
     "output_type": "stream",
     "text": [
      "In class B, Method m1.\n",
      "In class C, Method m2.\n"
     ]
    }
   ],
   "source": [
    "from abc import ABC, abstractmethod\n",
    "\n",
    "class A(ABC):\n",
    "\n",
    "    @abstractmethod\n",
    "    def m1(self):\n",
    "        print('In class A, Method m1.')\n",
    "\n",
    "class B(A):\n",
    "\n",
    "    def m1(self):\n",
    "        print('In class B, Method m1.')\n",
    "\n",
    "class C(B):\n",
    "\n",
    "    def m2(self):\n",
    "        print('In class C, Method m2.')\n",
    "\n",
    "c = C()\n",
    "c.m1()\n",
    "c.m2()"
   ]
  },
  {
   "cell_type": "code",
   "execution_count": 36,
   "metadata": {},
   "outputs": [
    {
     "ename": "TypeError",
     "evalue": "Can't instantiate abstract class B with abstract methods m1",
     "output_type": "error",
     "traceback": [
      "\u001b[0;31m---------------------------------------------------------------------------\u001b[0m",
      "\u001b[0;31mTypeError\u001b[0m                                 Traceback (most recent call last)",
      "\u001b[0;32m<ipython-input-36-a70f03c0ece6>\u001b[0m in \u001b[0;36m<module>\u001b[0;34m\u001b[0m\n\u001b[1;32m     15\u001b[0m         \u001b[0mprint\u001b[0m\u001b[0;34m(\u001b[0m\u001b[0;34m'In class B, Method m2.'\u001b[0m\u001b[0;34m)\u001b[0m\u001b[0;34m\u001b[0m\u001b[0;34m\u001b[0m\u001b[0m\n\u001b[1;32m     16\u001b[0m \u001b[0;34m\u001b[0m\u001b[0m\n\u001b[0;32m---> 17\u001b[0;31m \u001b[0mb\u001b[0m \u001b[0;34m=\u001b[0m \u001b[0mB\u001b[0m\u001b[0;34m(\u001b[0m\u001b[0;34m)\u001b[0m\u001b[0;34m\u001b[0m\u001b[0;34m\u001b[0m\u001b[0m\n\u001b[0m\u001b[1;32m     18\u001b[0m \u001b[0mb\u001b[0m\u001b[0;34m.\u001b[0m\u001b[0mm2\u001b[0m\u001b[0;34m(\u001b[0m\u001b[0;34m)\u001b[0m\u001b[0;34m\u001b[0m\u001b[0;34m\u001b[0m\u001b[0m\n",
      "\u001b[0;31mTypeError\u001b[0m: Can't instantiate abstract class B with abstract methods m1"
     ]
    }
   ],
   "source": [
    "from abc import ABC, abstractmethod\n",
    "\n",
    "class A(ABC):\n",
    "    \n",
    "    @abstractmethod\n",
    "    def m1():\n",
    "        print('In class A, Method m1.')\n",
    "\n",
    "    def m2():\n",
    "        print('In class A, Method m2.')\n",
    "\n",
    "class B(A):\n",
    "\n",
    "    def m2():\n",
    "        print('In class B, Method m2.')\n",
    "\n",
    "b = B()\n",
    "b.m2()"
   ]
  },
  {
   "cell_type": "code",
   "execution_count": null,
   "metadata": {},
   "outputs": [],
   "source": [
    "#Abstract class Test\n",
    "# Define the abstract class 'Animal' below\n",
    "# with abstract method 'say'\n",
    "class Animal(ABC):\n",
    "    @abstractmethod\n",
    "    def say(self):\n",
    "        pass\n",
    "\n",
    "\n",
    "# Define class Dog derived from Animal\n",
    "# Also define 'say' method inside 'Dog' class\n",
    "class Dog(Animal):\n",
    "    def say(self):\n",
    "        return 'I speak Booooo'\n"
   ]
  },
  {
   "cell_type": "code",
   "execution_count": 38,
   "metadata": {},
   "outputs": [
    {
     "data": {
      "text/plain": [
       "'\\nA Context Manager allows a programmer to perform required activities, automatically, while entering or exiting a Context.\\n\\nFor example, opening a file, doing few file operations, and closing the file is manged using Context Manager as shown below.\\n\\n\\nThe keyword with is used in Python to enable a context manager. It automatically takes care of closing the file.\\n\\n'"
      ]
     },
     "execution_count": 38,
     "metadata": {},
     "output_type": "execute_result"
    }
   ],
   "source": [
    "#Context Manager\n",
    "'''\n",
    "A Context Manager allows a programmer to perform required activities, automatically, while entering or exiting a Context.\n",
    "\n",
    "For example, opening a file, doing few file operations, and closing the file is manged using Context Manager as shown below.\n",
    "\n",
    "\n",
    "The keyword with is used in Python to enable a context manager. It automatically takes care of closing the file.\n",
    "\n",
    "'''\n",
    "\n"
   ]
  },
  {
   "cell_type": "code",
   "execution_count": null,
   "metadata": {},
   "outputs": [],
   "source": [
    "with open('foo.txt', 'w') as fp:\n",
    "    content = fp.read()"
   ]
  },
  {
   "cell_type": "code",
   "execution_count": null,
   "metadata": {},
   "outputs": [],
   "source": [
    "import sqlite3\n",
    "try:\n",
    "    dbConnection = sqlite3.connect('TEST.db')\n",
    "    cursor = dbConnection.cursor()\n",
    "    '''\n",
    "    Few db operations\n",
    "    ...\n",
    "    '''\n",
    "except Exception:\n",
    "    print('No Connection.')\n",
    "finally:\n",
    "    dbConnection.close()"
   ]
  },
  {
   "cell_type": "code",
   "execution_count": null,
   "metadata": {},
   "outputs": [],
   "source": [
    "import sqlite3\n",
    "class DbConnect(object):\n",
    "    def __init__(self, dbname):\n",
    "        self.dbname = dbname\n",
    "    def __enter__(self):\n",
    "        self.dbConnection = sqlite3.connect(self.dbname)\n",
    "        return self.dbConnection\n",
    "    def __exit__(self, exc_type, exc_val, exc_tb):\n",
    "        self.dbConnection.close()\n",
    "with DbConnect('TEST.db') as db:\n",
    "    cursor = db.cursor()\n",
    "    '''\n",
    "   Few db operations\n",
    "   ...\n",
    "    '''"
   ]
  },
  {
   "cell_type": "code",
   "execution_count": 42,
   "metadata": {},
   "outputs": [
    {
     "name": "stdout",
     "output_type": "stream",
     "text": [
      "Entering Context\n",
      "In Context\n",
      "Exiting Context\n"
     ]
    }
   ],
   "source": [
    "from contextlib import contextmanager\n",
    "\n",
    "@contextmanager\n",
    "def context():\n",
    "    print('Entering Context')\n",
    "    yield \n",
    "    print(\"Exiting Context\")\n",
    "\n",
    "with context():\n",
    "    print('In Context')"
   ]
  },
  {
   "cell_type": "code",
   "execution_count": null,
   "metadata": {},
   "outputs": [],
   "source": [
    "#Test1\n",
    "def writeTo(filename,input_text ):\n",
    "    with open(filename,'w') as fp:\n",
    "        fp.write(input_text)\n",
    "\n",
    "\n",
    "\n"
   ]
  },
  {
   "cell_type": "code",
   "execution_count": null,
   "metadata": {},
   "outputs": [],
   "source": [
    "#Test2\n",
    "import zipfile\n",
    "import sys\n",
    "import os\n",
    "import inspect\n",
    "\n",
    "\n",
    "# Define 'writeTo' function below, such that \n",
    "# it writes input_text string to filename.\n",
    "def writeTo(filename, input_text):\n",
    "    with open(filename,'w') as fp:\n",
    "        fp.write(input_text)\n",
    "\n",
    "   \n",
    "#Define the function 'archive' below, such that\n",
    "# it archives 'filename' into the 'zipfile'\n",
    "def archive(zfile, filename):\n",
    "    with zipfile.ZipFile(zfile, 'w') as myzip:\n",
    "        myzip.write(filename)"
   ]
  },
  {
   "cell_type": "code",
   "execution_count": null,
   "metadata": {},
   "outputs": [],
   "source": [
    "#Test3\n",
    "\n",
    "    def run_process(cmd_args):\n",
    "    with subprocess.Popen(cmd_args, stdout=subprocess.PIPE, stderr=subprocess.PIPE) as p:\n",
    "        out, err = p.communicate()\n",
    "    return out"
   ]
  },
  {
   "cell_type": "code",
   "execution_count": 45,
   "metadata": {},
   "outputs": [
    {
     "name": "stdout",
     "output_type": "stream",
     "text": [
      "(b'hello world\\n', None)\n"
     ]
    }
   ],
   "source": [
    "import subprocess\n",
    "p = subprocess.Popen([\"echo\", \"hello world\"], stdout=subprocess.PIPE)\n",
    "print(p.communicate())\n",
    "\n",
    "\n",
    "def run_process(cmd_args):\n",
    "    print(\"'with' used in 'run_process' function definition.\")\n",
    "    print(\"'Popen' used in 'run_process' function definition.\")\n",
    "    p = subprocess.Popen(cmd_args)\n",
    "    p.communicate()\n",
    "    "
   ]
  },
  {
   "cell_type": "code",
   "execution_count": 62,
   "metadata": {},
   "outputs": [
    {
     "data": {
      "text/plain": [
       "'\\nA Coroutine is generator which is capable of constantly receiving input data, process input data and may or may not return any output.\\n\\nCoroutines are majorly used to build better Data Processing Pipelines.\\n\\nSimilar to a generator, execution of a coroutine stops when it reaches yield statement.\\n\\nA Coroutine uses send method to send any input value, which is captured by yield expression.\\n\\n'"
      ]
     },
     "execution_count": 62,
     "metadata": {},
     "output_type": "execute_result"
    }
   ],
   "source": [
    "#Coroutine\n",
    "\n",
    "'''\n",
    "A Coroutine is generator which is capable of constantly receiving input data, process input data and may or may not return any output.\n",
    "\n",
    "Coroutines are majorly used to build better Data Processing Pipelines.\n",
    "\n",
    "Similar to a generator, execution of a coroutine stops when it reaches yield statement.\n",
    "\n",
    "A Coroutine uses send method to send any input value, which is captured by yield expression.\n",
    "\n",
    "'''"
   ]
  },
  {
   "cell_type": "code",
   "execution_count": 46,
   "metadata": {},
   "outputs": [
    {
     "name": "stdout",
     "output_type": "stream",
     "text": [
      "Token number of George : 1\n",
      "Token number of Rosy : 2\n",
      "Token number of Smith : 3\n"
     ]
    }
   ],
   "source": [
    "def TokenIssuer():\n",
    "    tokenId = 0\n",
    "    while True:\n",
    "        name = yield\n",
    "        tokenId += 1\n",
    "        print('Token number of', name, ':', tokenId)\n",
    "t = TokenIssuer()\n",
    "next(t)\n",
    "t.send('George')\n",
    "t.send('Rosy')\n",
    "t.send('Smith')"
   ]
  },
  {
   "cell_type": "code",
   "execution_count": 47,
   "metadata": {},
   "outputs": [
    {
     "name": "stdout",
     "output_type": "stream",
     "text": [
      "Token number of George : 101\n",
      "Token number of Rosy : 102\n",
      "Token number of Smith : 103\n",
      "Last issued Token is : 103\n"
     ]
    }
   ],
   "source": [
    "def TokenIssuer(tokenId=0):\n",
    "    try:\n",
    "        while True:\n",
    "            name = yield\n",
    "            tokenId += 1\n",
    "            print('Token number of', name, ':', tokenId)\n",
    "    except GeneratorExit:\n",
    "        print('Last issued Token is :', tokenId)\n",
    "t = TokenIssuer(100)\n",
    "next(t)\n",
    "t.send('George')\n",
    "t.send('Rosy')\n",
    "t.send('Smith')\n",
    "t.close()"
   ]
  },
  {
   "cell_type": "code",
   "execution_count": 49,
   "metadata": {},
   "outputs": [
    {
     "name": "stdout",
     "output_type": "stream",
     "text": [
      "Token number of George : 101\n",
      "Token number of Rosy : 102\n",
      "Token number of Smith : 103\n",
      "Last issued Token is : 103\n"
     ]
    }
   ],
   "source": [
    "def coroutine_decorator(func):\n",
    "    def wrapper(*args, **kwdargs):\n",
    "        c = func(*args, **kwdargs)\n",
    "        next(c)\n",
    "        return c\n",
    "    return wrapper\n",
    "@coroutine_decorator\n",
    "def TokenIssuer(tokenId=0):\n",
    "    try:\n",
    "        while True:\n",
    "            name = yield\n",
    "            tokenId += 1\n",
    "            print('Token number of', name, ':', tokenId)\n",
    "    except GeneratorExit:\n",
    "        print('Last issued Token is :', tokenId)\n",
    "t = TokenIssuer(100)\n",
    "t.send('George')\n",
    "t.send('Rosy')\n",
    "t.send('Smith')\n",
    "t.close()"
   ]
  },
  {
   "cell_type": "code",
   "execution_count": 50,
   "metadata": {},
   "outputs": [
    {
     "name": "stdout",
     "output_type": "stream",
     "text": [
      "Length of 'Jack' : 4\n",
      "Length of 'Black' : 5\n"
     ]
    }
   ],
   "source": [
    "def stringParser():\n",
    "    while True:\n",
    "        name = yield\n",
    "        (fname, lname) = name.split()\n",
    "        f.send(fname)\n",
    "        f.send(lname)\n",
    "\n",
    "def stringLength():\n",
    "    while True:\n",
    "        string = yield\n",
    "        print(\"Length of '{}' : {}\".format(string, len(string)))\n",
    "\n",
    "\n",
    "f = stringLength(); next(f)\n",
    "\n",
    "s = stringParser()\n",
    "next(s)\n",
    "s.send('Jack Black')"
   ]
  },
  {
   "cell_type": "code",
   "execution_count": 51,
   "metadata": {},
   "outputs": [
    {
     "name": "stdout",
     "output_type": "stream",
     "text": [
      "Hi!!Hi!!Hi!!\n"
     ]
    }
   ],
   "source": [
    "def stringDisplay():\n",
    "    while True:\n",
    "        s = yield\n",
    "        print(s*3)\n",
    "\n",
    "\n",
    "c = stringDisplay()\n",
    "next(c)\n",
    "c.send('Hi!!')"
   ]
  },
  {
   "cell_type": "code",
   "execution_count": null,
   "metadata": {},
   "outputs": [],
   "source": [
    "#Test1\n",
    "\n",
    "\n",
    "def linear_equation(a, b):\n",
    "    while True:\n",
    "        x = yield\n",
    "        print('Expression, 3.0*x^2 + 4.0, with x being 6 equals',a*(x**2)+b)"
   ]
  },
  {
   "cell_type": "code",
   "execution_count": null,
   "metadata": {},
   "outputs": [],
   "source": [
    "#Test2\n",
    "\n",
    "# Define 'coroutine_decorator' below\n",
    "def coroutine_decorator(coroutine_func):\n",
    "    def wrapper(*args, **kwdargs):\n",
    "         c = coroutine_func(*args, **kwdargs)\n",
    "         next(c)\n",
    "         return c\n",
    "    return wrapper\n",
    "    \n",
    "# Define coroutine 'linear_equation' as specified in previous exercise\n",
    "@coroutine_decorator\n",
    "def linear_equation(a, b):\n",
    "    while True:\n",
    "        x = yield\n",
    "        print('Expression, 3.0*x^2 + 4.0, with x being 6 equals',a*(x**2)+b)\n"
   ]
  },
  {
   "cell_type": "code",
   "execution_count": null,
   "metadata": {},
   "outputs": [],
   "source": [
    "#Test 3\n",
    "# Define the function 'coroutine_decorator' below\n",
    "def coroutine_decorator(coroutine_func):\n",
    "    def wapper(*args, **kwdargs):\n",
    "         c = coroutine_func(*args, **kwdargs)\n",
    "         next(c)\n",
    "         return c\n",
    "    return wrapper\n",
    "    \n",
    "# Define the coroutine function 'linear_equation' below\n",
    "@coroutine_decorator\n",
    "def linear_equation(a, b):\n",
    "    while True:\n",
    "        x = yield\n",
    "        e = a*(x**2)+b\n",
    "        print('Expression, '+str(a)+'*x^2 + '+str(b)+', with x being '+str(x)+' equals '+str(e))\n",
    "\n",
    "    \n",
    "# Define the coroutine function 'numberParser' below\n",
    "@coroutine_decorator\n",
    "def numberParser():\n",
    "    equation1 = linear_equation(3, 4)\n",
    "    equation2 = linear_equation(2, -1)\n",
    "    # code to send the input number to both the linear equations\n",
    "    while True :\n",
    "        x = yield\n",
    "        equation1.send(x)\n",
    "        equation2.send(x)\n",
    "\n",
    "    \n",
    "\n",
    "\n",
    "\n",
    "    \n",
    "def main(x):\n",
    "    n = numberParser()\n",
    "    n.send(x)"
   ]
  },
  {
   "cell_type": "code",
   "execution_count": 52,
   "metadata": {},
   "outputs": [
    {
     "ename": "ValueError",
     "evalue": "Only Int or float is allowed",
     "output_type": "error",
     "traceback": [
      "\u001b[0;31m---------------------------------------------------------------------------\u001b[0m",
      "\u001b[0;31mValueError\u001b[0m                                Traceback (most recent call last)",
      "\u001b[0;32m<ipython-input-52-18e11f5a7be3>\u001b[0m in \u001b[0;36m<module>\u001b[0;34m\u001b[0m\n\u001b[1;32m     15\u001b[0m \u001b[0;34m\u001b[0m\u001b[0m\n\u001b[1;32m     16\u001b[0m \u001b[0ma\u001b[0m \u001b[0;34m=\u001b[0m \u001b[0mA\u001b[0m\u001b[0;34m(\u001b[0m\u001b[0;36m7\u001b[0m\u001b[0;34m)\u001b[0m\u001b[0;34m\u001b[0m\u001b[0;34m\u001b[0m\u001b[0m\n\u001b[0;32m---> 17\u001b[0;31m \u001b[0ma\u001b[0m\u001b[0;34m.\u001b[0m\u001b[0mx\u001b[0m \u001b[0;34m=\u001b[0m \u001b[0;34m'George'\u001b[0m\u001b[0;34m\u001b[0m\u001b[0;34m\u001b[0m\u001b[0m\n\u001b[0m\u001b[1;32m     18\u001b[0m \u001b[0mprint\u001b[0m\u001b[0;34m(\u001b[0m\u001b[0ma\u001b[0m\u001b[0;34m.\u001b[0m\u001b[0mx\u001b[0m\u001b[0;34m)\u001b[0m\u001b[0;34m\u001b[0m\u001b[0;34m\u001b[0m\u001b[0m\n",
      "\u001b[0;32m<ipython-input-52-18e11f5a7be3>\u001b[0m in \u001b[0;36mx\u001b[0;34m(self, value)\u001b[0m\n\u001b[1;32m     11\u001b[0m     \u001b[0;32mdef\u001b[0m \u001b[0mx\u001b[0m\u001b[0;34m(\u001b[0m\u001b[0mself\u001b[0m\u001b[0;34m,\u001b[0m \u001b[0mvalue\u001b[0m\u001b[0;34m)\u001b[0m\u001b[0;34m:\u001b[0m\u001b[0;34m\u001b[0m\u001b[0;34m\u001b[0m\u001b[0m\n\u001b[1;32m     12\u001b[0m         \u001b[0;32mif\u001b[0m \u001b[0;32mnot\u001b[0m \u001b[0misinstance\u001b[0m\u001b[0;34m(\u001b[0m\u001b[0mvalue\u001b[0m\u001b[0;34m,\u001b[0m \u001b[0;34m(\u001b[0m\u001b[0mint\u001b[0m\u001b[0;34m,\u001b[0m \u001b[0mfloat\u001b[0m\u001b[0;34m)\u001b[0m\u001b[0;34m)\u001b[0m\u001b[0;34m:\u001b[0m\u001b[0;34m\u001b[0m\u001b[0;34m\u001b[0m\u001b[0m\n\u001b[0;32m---> 13\u001b[0;31m             \u001b[0;32mraise\u001b[0m \u001b[0mValueError\u001b[0m\u001b[0;34m(\u001b[0m\u001b[0;34m'Only Int or float is allowed'\u001b[0m\u001b[0;34m)\u001b[0m\u001b[0;34m\u001b[0m\u001b[0;34m\u001b[0m\u001b[0m\n\u001b[0m\u001b[1;32m     14\u001b[0m         \u001b[0mself\u001b[0m\u001b[0;34m.\u001b[0m\u001b[0m__x\u001b[0m \u001b[0;34m=\u001b[0m \u001b[0mvalue\u001b[0m\u001b[0;34m\u001b[0m\u001b[0;34m\u001b[0m\u001b[0m\n\u001b[1;32m     15\u001b[0m \u001b[0;34m\u001b[0m\u001b[0m\n",
      "\u001b[0;31mValueError\u001b[0m: Only Int or float is allowed"
     ]
    }
   ],
   "source": [
    "class A:\n",
    "\n",
    "    def __init__(self, value):\n",
    "        self.x = value\n",
    "\n",
    "    @property\n",
    "    def x(self):\n",
    "        return self.__x\n",
    "\n",
    "    @x.setter\n",
    "    def x(self, value):\n",
    "        if not isinstance(value, (int, float)):\n",
    "            raise ValueError('Only Int or float is allowed')\n",
    "        self.__x = value\n",
    "\n",
    "a = A(7)\n",
    "a.x = 'George'\n",
    "print(a.x)"
   ]
  },
  {
   "cell_type": "code",
   "execution_count": 53,
   "metadata": {},
   "outputs": [
    {
     "name": "stdout",
     "output_type": "stream",
     "text": [
      "First Name: George\n",
      "Last Name: Williams\n",
      "First Name: John\n"
     ]
    }
   ],
   "source": [
    "def nameFeeder():\n",
    "    while True:\n",
    "        fname = yield\n",
    "        print('First Name:', fname)\n",
    "        lname = yield\n",
    "        print('Last Name:', lname)\n",
    "\n",
    "n = nameFeeder()\n",
    "next(n)\n",
    "n.send('George')\n",
    "n.send('Williams')\n",
    "n.send('John')"
   ]
  },
  {
   "cell_type": "code",
   "execution_count": 54,
   "metadata": {},
   "outputs": [
    {
     "ename": "TypeError",
     "evalue": "'classmethod' object is not callable",
     "output_type": "error",
     "traceback": [
      "\u001b[0;31m---------------------------------------------------------------------------\u001b[0m",
      "\u001b[0;31mTypeError\u001b[0m                                 Traceback (most recent call last)",
      "\u001b[0;32m<ipython-input-54-67281bb618b6>\u001b[0m in \u001b[0;36m<module>\u001b[0;34m\u001b[0m\n\u001b[1;32m      6\u001b[0m         \u001b[0mprint\u001b[0m\u001b[0;34m(\u001b[0m\u001b[0;34m'Hello'\u001b[0m\u001b[0;34m)\u001b[0m\u001b[0;34m\u001b[0m\u001b[0;34m\u001b[0m\u001b[0m\n\u001b[1;32m      7\u001b[0m \u001b[0;34m\u001b[0m\u001b[0m\n\u001b[0;32m----> 8\u001b[0;31m \u001b[0mA\u001b[0m\u001b[0;34m.\u001b[0m\u001b[0mm1\u001b[0m\u001b[0;34m(\u001b[0m\u001b[0;36m5\u001b[0m\u001b[0;34m)\u001b[0m\u001b[0;34m\u001b[0m\u001b[0;34m\u001b[0m\u001b[0m\n\u001b[0m",
      "\u001b[0;31mTypeError\u001b[0m: 'classmethod' object is not callable"
     ]
    }
   ],
   "source": [
    "class A:\n",
    "\n",
    "    @staticmethod\n",
    "    @classmethod\n",
    "    def m1(self):\n",
    "        print('Hello')\n",
    "\n",
    "A.m1(5)"
   ]
  },
  {
   "cell_type": "code",
   "execution_count": 55,
   "metadata": {},
   "outputs": [
    {
     "name": "stdout",
     "output_type": "stream",
     "text": [
      "Length of 'Jack' : 4\n",
      "Length of 'Black' : 5\n"
     ]
    }
   ],
   "source": [
    "def stringParser():\n",
    "    while True:\n",
    "        name = yield\n",
    "        (fname, lname) = name.split()\n",
    "        f.send(fname)\n",
    "        f.send(lname)\n",
    "\n",
    "def stringLength():\n",
    "    while True:\n",
    "        string = yield\n",
    "        print(\"Length of '{}' : {}\".format(string, len(string)))\n",
    "\n",
    "\n",
    "f = stringLength(); next(f)\n",
    "\n",
    "s = stringParser()\n",
    "next(s)\n",
    "s.send('Jack Black')"
   ]
  },
  {
   "cell_type": "code",
   "execution_count": 56,
   "metadata": {},
   "outputs": [
    {
     "data": {
      "text/plain": [
       "'XbcdXfghXj'"
      ]
     },
     "execution_count": 56,
     "metadata": {},
     "output_type": "execute_result"
    }
   ],
   "source": [
    "import re\n",
    "re.sub(r'[aeiou]', 'X', 'abcdefghij')"
   ]
  },
  {
   "cell_type": "code",
   "execution_count": 57,
   "metadata": {},
   "outputs": [
    {
     "name": "stdout",
     "output_type": "stream",
     "text": [
      "In class B, Method m1.\n"
     ]
    }
   ],
   "source": [
    "from abc import ABC, abstractmethod\n",
    "\n",
    "class A(ABC):\n",
    "\n",
    "    @abstractmethod\n",
    "    def m1(self):\n",
    "        print('In class A, Method m1.')\n",
    "\n",
    "class B(A):\n",
    "\n",
    "    @staticmethod\n",
    "    def m1(self):\n",
    "        print('In class B, Method m1.')\n",
    "\n",
    "b = B()\n",
    "B.m1(b)"
   ]
  },
  {
   "cell_type": "code",
   "execution_count": 58,
   "metadata": {},
   "outputs": [
    {
     "name": "stdout",
     "output_type": "stream",
     "text": [
      "World\n",
      "Hello\n"
     ]
    }
   ],
   "source": [
    "v = 'Hello'\n",
    "\n",
    "def f():\n",
    "    v = 'World'\n",
    "    return v\n",
    "\n",
    "print(f())\n",
    "print(v)"
   ]
  },
  {
   "cell_type": "code",
   "execution_count": 59,
   "metadata": {},
   "outputs": [
    {
     "name": "stdout",
     "output_type": "stream",
     "text": [
      "Class Method\n"
     ]
    }
   ],
   "source": [
    "class A:\n",
    "\n",
    "    @staticmethod\n",
    "    def m1(self):\n",
    "        print('Static Method')\n",
    "\n",
    "    @classmethod\n",
    "    def m1(self):\n",
    "        print('Class Method')\n",
    "\n",
    "A.m1()"
   ]
  },
  {
   "cell_type": "code",
   "execution_count": 60,
   "metadata": {},
   "outputs": [
    {
     "ename": "AttributeError",
     "evalue": "can't set attribute",
     "output_type": "error",
     "traceback": [
      "\u001b[0;31m---------------------------------------------------------------------------\u001b[0m",
      "\u001b[0;31mAttributeError\u001b[0m                            Traceback (most recent call last)",
      "\u001b[0;32m<ipython-input-60-46b7292c3ea4>\u001b[0m in \u001b[0;36m<module>\u001b[0;34m\u001b[0m\n\u001b[1;32m      9\u001b[0m \u001b[0;34m\u001b[0m\u001b[0m\n\u001b[1;32m     10\u001b[0m \u001b[0ma\u001b[0m \u001b[0;34m=\u001b[0m \u001b[0mA\u001b[0m\u001b[0;34m(\u001b[0m\u001b[0;36m7\u001b[0m\u001b[0;34m)\u001b[0m\u001b[0;34m\u001b[0m\u001b[0;34m\u001b[0m\u001b[0m\n\u001b[0;32m---> 11\u001b[0;31m \u001b[0ma\u001b[0m\u001b[0;34m.\u001b[0m\u001b[0mx\u001b[0m \u001b[0;34m=\u001b[0m \u001b[0;36m10\u001b[0m\u001b[0;34m\u001b[0m\u001b[0;34m\u001b[0m\u001b[0m\n\u001b[0m\u001b[1;32m     12\u001b[0m \u001b[0mprint\u001b[0m\u001b[0;34m(\u001b[0m\u001b[0ma\u001b[0m\u001b[0;34m.\u001b[0m\u001b[0mx\u001b[0m\u001b[0;34m)\u001b[0m\u001b[0;34m\u001b[0m\u001b[0;34m\u001b[0m\u001b[0m\n",
      "\u001b[0;31mAttributeError\u001b[0m: can't set attribute"
     ]
    }
   ],
   "source": [
    "class A:\n",
    "\n",
    "    def __init__(self, x):\n",
    "        self.__x = x\n",
    "\n",
    "    @property\n",
    "    def x(self):\n",
    "        return self.__x\n",
    "\n",
    "a = A(7)\n",
    "a.x = 10\n",
    "print(a.x)"
   ]
  },
  {
   "cell_type": "code",
   "execution_count": 61,
   "metadata": {},
   "outputs": [
    {
     "name": "stdout",
     "output_type": "stream",
     "text": [
      "In class B, Method m1.\n"
     ]
    }
   ],
   "source": [
    "from abc import ABC, abstractmethod\n",
    "\n",
    "class A(ABC):\n",
    "\n",
    "    @abstractmethod\n",
    "    def m1(self):\n",
    "        print('In class A, Method m1.')\n",
    "\n",
    "class B(A):\n",
    "\n",
    "    @staticmethod\n",
    "    def m1(self):\n",
    "        print('In class B, Method m1.')\n",
    "\n",
    "b = B()\n",
    "B.m1(b)"
   ]
  },
  {
   "cell_type": "code",
   "execution_count": null,
   "metadata": {},
   "outputs": [],
   "source": []
  }
 ],
 "metadata": {
  "kernelspec": {
   "display_name": "Python 3",
   "language": "python",
   "name": "python3"
  },
  "language_info": {
   "codemirror_mode": {
    "name": "ipython",
    "version": 3
   },
   "file_extension": ".py",
   "mimetype": "text/x-python",
   "name": "python",
   "nbconvert_exporter": "python",
   "pygments_lexer": "ipython3",
   "version": "3.7.4"
  }
 },
 "nbformat": 4,
 "nbformat_minor": 2
}
